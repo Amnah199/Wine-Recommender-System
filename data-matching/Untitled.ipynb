{
 "cells": [
  {
   "cell_type": "code",
   "execution_count": 2,
   "id": "5e6587cc-5e2b-4132-8c11-d2b5f713e5fc",
   "metadata": {},
   "outputs": [],
   "source": [
    "import numpy as np\n",
    "import json\n",
    "import pandas as pd\n",
    "import recordlinkage\n",
    "import re"
   ]
  },
  {
   "cell_type": "code",
   "execution_count": 24,
   "id": "93de79b0-f18a-4054-baf8-ce7011531ca3",
   "metadata": {},
   "outputs": [],
   "source": [
    "vivino = pd.read_csv('/home/p/wines/winerecommender/data-matching/vivino_full.csv', encoding='utf-8')\n",
    "\n",
    "direktimport = pd.read_csv('/home/p/wines/winerecommender/data-matching/direktimport_formatted.csv', encoding='utf-8')\n",
    "divino = pd.read_csv('/home/p/wines/winerecommender/data-matching/divino_formatted.csv', encoding='utf-8')\n",
    "#jacques = pd.read_csv('home/p/wines/winerecommender/data-matching/jacques_wines.csv', encoding='utf-8')"
   ]
  },
  {
   "cell_type": "code",
   "execution_count": 25,
   "id": "088eba4f-8b6e-4b7c-a093-b8a89867d98c",
   "metadata": {},
   "outputs": [],
   "source": [
    "vivino[\"wine_name\"] = vivino[\"wine_name\"].str.lower()\n",
    "vivino[\"wine_winery\"] = vivino[\"wine_winery\"].str.lower()\n",
    "direktimport[\"wine_name\"] = direktimport[\"wine_name\"].str.lower()\n",
    "direktimport[\"wine_winery\"] = direktimport[\"wine_winery\"].str.lower()\n"
   ]
  },
  {
   "cell_type": "code",
   "execution_count": 51,
   "id": "040cc9ef-f3cd-472d-9e5a-36edd8134323",
   "metadata": {},
   "outputs": [],
   "source": [
    "indexer = recordlinkage.Index()\n",
    "indexer.block(left_on='wine_type', right_on='wine_type')\n",
    "indexer.block(left_on='wine_country', right_on='wine_country')\n",
    "\n",
    "candidate_pairs = indexer.index(vivino, direktimport)"
   ]
  },
  {
   "cell_type": "code",
   "execution_count": 52,
   "id": "d512b7cd-6c6b-4761-af8a-8bafefec10ca",
   "metadata": {},
   "outputs": [
    {
     "data": {
      "text/plain": [
       "<Compare>"
      ]
     },
     "execution_count": 52,
     "metadata": {},
     "output_type": "execute_result"
    }
   ],
   "source": [
    "compare_wines = recordlinkage.Compare()\n",
    "compare_wines.string('wine_name', 'wine_name', method='jarowinkler', threshold=0.8, label='name')\n",
    "compare_wines.string('wine_winery', 'wine_winery', method='jarowinkler', threshold=0.80, label='winery')\n",
    "compare_wines.numeric('wine_alcohol', 'wine_alcohol', label = 'alc')\n",
    "compare_wines.string('wine_region', 'wine_region', method='jarowinkler', threshold=0.80, label='region')"
   ]
  },
  {
   "cell_type": "code",
   "execution_count": 53,
   "id": "01af3ac1-4787-4c6d-88d7-5d59fa30fb38",
   "metadata": {},
   "outputs": [],
   "source": [
    "X = compare_wines.compute(candidate_pairs, vivino, direktimport)\n",
    "res = X[X.sum(axis=1) > 3]\n",
    "res.loc[0]"
   ]
  },
  {
   "cell_type": "code",
   "execution_count": 76,
   "id": "0223a9d3-a9f5-46fb-a4eb-322f6c57a316",
   "metadata": {},
   "outputs": [],
   "source": [
    "import datasketch\n",
    "import fuzzymatcher\n",
    "\n",
    "ons = ['wine_name', 'wine_winery', 'wine_country', 'wine_region', 'wine_type']\n",
    "vivinof = vivino[ons]\n",
    "direktimportf = direktimport[ons]\n",
    "resf = fuzzymatcher.fuzzy_left_join(direktimportf, vivinof, ons, ons)"
   ]
  },
  {
   "cell_type": "code",
   "execution_count": 77,
   "id": "35d8c092",
   "metadata": {},
   "outputs": [],
   "source": [
    "resf.sort_values('best_match_score', ascending = False, inplace=True)"
   ]
  },
  {
   "cell_type": "code",
   "execution_count": 80,
   "id": "6a4e566e",
   "metadata": {},
   "outputs": [],
   "source": [
    "resf.to_csv('/home/p/wines/winerecommender/data-matching/fuzzy_results.csv')\n",
    "\n",
    "\n"
   ]
  },
  {
   "cell_type": "code",
   "execution_count": 104,
   "id": "2715bed4",
   "metadata": {},
   "outputs": [],
   "source": [
    "resf['search'] = resf['wine_winery_left'] +' '+ resf['wine_name_left']\n",
    "resf['index'] = list(range(len(resf['search'])))\n",
    "resf.set_index('index', inplace=True)\n",
    "strings = list(resf['search'][170:])\n",
    "ids = list(resf['__id_left'].map(lambda x: x.split('_')[0])[170:])\n",
    "i=0\n",
    "out = []\n",
    "for string in strings:\n",
    "    out.append({\n",
    "        \"local_id\": ids[i],\n",
    "        \"search_string\": string\n",
    "    })\n",
    "    i+=1\n"
   ]
  },
  {
   "cell_type": "code",
   "execution_count": 106,
   "id": "9dbfb4a5",
   "metadata": {},
   "outputs": [],
   "source": [
    "with open(\"/home/p/wines/winerecommender/data-matching/search.json\", \"w\") as f:\n",
    "    f.write(json.dumps(out))"
   ]
  },
  {
   "cell_type": "markdown",
   "id": "8727c3b6",
   "metadata": {},
   "source": [
    "# grab test data for recommendations"
   ]
  },
  {
   "cell_type": "code",
   "execution_count": null,
   "id": "b6a22e95",
   "metadata": {},
   "outputs": [],
   "source": [
    "with open('/home/p/wines/winerecommender/WineRecommender_API/recommender_engine/example_json/example_input_profile.json') as f:\n",
    "    profile = json.load(f)\n",
    "\n",
    "with open('/home/p/wines/winerecommender/WineRecommender_API/recommender_engine/example_json/example_input_wines.json') as f:\n",
    "    wines = json.load(f)"
   ]
  },
  {
   "cell_type": "code",
   "execution_count": 11,
   "id": "68cbd808",
   "metadata": {},
   "outputs": [],
   "source": [
    "def calcRecs(wines_list, user_profile, num_wines, structure_param = 0.5, tastes_param = 1, ratings_param = 1):\n",
    "    user_profile[\"structure\"] = np.array(user_profile[\"structure\"].values())\n",
    "    user_profile[\"tastes\"] = np.array(user_profile[\"tastes\"].values())\n",
    "    for wine in wines_list:\n",
    "        wine[\"wine_tastes\"] = np.array(wine[\"wine_tastes\"].values())\n",
    "        wine[\"wine_structure\"] = np.array(wine[\"wine_structure\"].values())\n",
    "        wine[\"wine_rating\"] = wine[\"wine_rating\"]/4\n",
    "        wine[\"score\"] = (structure_param * sum(user_profile[\"structure\"]*wine[\"wine_structure\"]) + tastes_param * sum(user_profile[\"tastes\"]*wine[\"wine_tastes\"])) * (ratings_param * wine[\"wine_rating\"])\n",
    "    \n",
    "    wines_list = sorted(wines_list, key=lambda k: k[\"score\"])\n",
    "    return wines_list[:num_wines-1]"
   ]
  },
  {
   "cell_type": "code",
   "execution_count": 3,
   "id": "05ab52ba",
   "metadata": {},
   "outputs": [],
   "source": [
    "import json\n",
    "with open('/home/p/wines/winerecommender/data-matching/vivino_data_combined_fm.json') as f:\n",
    "    viv = json.load(f)"
   ]
  },
  {
   "cell_type": "code",
   "execution_count": 7,
   "id": "0a8b98a2",
   "metadata": {},
   "outputs": [
    {
     "name": "stdout",
     "output_type": "stream",
     "text": [
      "['black_fruit', 'citrus_fruit', 'dried_fruit', 'earth', 'floral', 'microbio', 'non_oak', 'oak', 'red_fruit', 'spices', 'tree_fruit', 'tropical_fruit', 'vegetal']\n"
     ]
    }
   ],
   "source": [
    "seen = set()\n",
    "keys = []\n",
    "for wine in viv:\n",
    "    try:\n",
    "        for group in wine[\"wine_tastes\"]:\n",
    "            if group[\"group\"] not in seen:\n",
    "                seen.add(group[\"group\"])\n",
    "                keys.append(group[\"group\"])\n",
    "    except:\n",
    "        continue\n",
    "print(sorted(keys))"
   ]
  }
 ],
 "metadata": {
  "kernelspec": {
   "display_name": "Python 3 (ipykernel)",
   "language": "python",
   "name": "python3"
  },
  "language_info": {
   "codemirror_mode": {
    "name": "ipython",
    "version": 3
   },
   "file_extension": ".py",
   "mimetype": "text/x-python",
   "name": "python",
   "nbconvert_exporter": "python",
   "pygments_lexer": "ipython3",
   "version": "3.9.2"
  }
 },
 "nbformat": 4,
 "nbformat_minor": 5
}
