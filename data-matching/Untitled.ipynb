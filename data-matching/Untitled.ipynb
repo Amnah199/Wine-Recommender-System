{
 "cells": [
  {
   "cell_type": "code",
   "execution_count": 23,
   "id": "5e6587cc-5e2b-4132-8c11-d2b5f713e5fc",
   "metadata": {},
   "outputs": [],
   "source": [
    "import numpy as np\n",
    "import json\n",
    "import pandas as pd\n",
    "import recordlinkage\n",
    "import re"
   ]
  },
  {
   "cell_type": "code",
   "execution_count": 24,
   "id": "93de79b0-f18a-4054-baf8-ce7011531ca3",
   "metadata": {},
   "outputs": [],
   "source": [
    "vivino = pd.read_csv('/home/p/wines/winerecommender/data-matching/vivino_full.csv', encoding='utf-8')\n",
    "\n",
    "direktimport = pd.read_csv('/home/p/wines/winerecommender/data-matching/direktimport_formatted.csv', encoding='utf-8')\n",
    "divino = pd.read_csv('/home/p/wines/winerecommender/data-matching/divino_formatted.csv', encoding='utf-8')\n",
    "#jacques = pd.read_csv('home/p/wines/winerecommender/data-matching/jacques_wines.csv', encoding='utf-8')"
   ]
  },
  {
   "cell_type": "code",
   "execution_count": 25,
   "id": "088eba4f-8b6e-4b7c-a093-b8a89867d98c",
   "metadata": {},
   "outputs": [],
   "source": [
    "vivino[\"wine_name\"] = vivino[\"wine_name\"].str.lower()\n",
    "vivino[\"wine_winery\"] = vivino[\"wine_winery\"].str.lower()\n",
    "direktimport[\"wine_name\"] = direktimport[\"wine_name\"].str.lower()\n",
    "direktimport[\"wine_winery\"] = direktimport[\"wine_winery\"].str.lower()\n"
   ]
  },
  {
   "cell_type": "code",
   "execution_count": 34,
   "id": "040cc9ef-f3cd-472d-9e5a-36edd8134323",
   "metadata": {},
   "outputs": [],
   "source": [
    "indexer = recordlinkage.Index()\n",
    "indexer.block('wine_type')\n",
    "indexer.block('wine_country')\n",
    "\n",
    "candidate_pairs = indexer.index(vivino, direktimport)"
   ]
  },
  {
   "cell_type": "code",
   "execution_count": 40,
   "id": "d512b7cd-6c6b-4761-af8a-8bafefec10ca",
   "metadata": {},
   "outputs": [
    {
     "data": {
      "text/plain": [
       "<Compare>"
      ]
     },
     "execution_count": 40,
     "metadata": {},
     "output_type": "execute_result"
    }
   ],
   "source": [
    "compare_wines = recordlinkage.Compare()\n",
    "compare_wines.exact('wine_type', 'wine_type', label='type')\n",
    "compare_wines.exact('wine_country', 'wine_country', label = 'country')\n",
    "compare_wines.string('wine_name', 'wine_name', method='jarowinkler', threshold=0.85, label='name')\n",
    "compare_wines.string('wine_winery', 'wine_winery', method='jarowinkler', threshold=0.85, label='winery')\n",
    "compare_wines.numeric('wine_alcohol', 'wine_alcohol', label = 'alc')\n",
    "compare_wines.string('wine_region', 'wine_region', method='jarowinkler', threshold=0.85, label='region')"
   ]
  },
  {
   "cell_type": "code",
   "execution_count": 41,
   "id": "01af3ac1-4787-4c6d-88d7-5d59fa30fb38",
   "metadata": {},
   "outputs": [],
   "source": [
    "X = compare_wines.compute(candidate_pairs, vivino, direktimport)"
   ]
  },
  {
   "cell_type": "code",
   "execution_count": 37,
   "id": "0223a9d3-a9f5-46fb-a4eb-322f6c57a316",
   "metadata": {},
   "outputs": [],
   "source": [
    "res = X[X.sum(axis=1) > 3]"
   ]
  },
  {
   "cell_type": "code",
   "execution_count": 39,
   "id": "7bf632a8-7dcd-49bc-8715-3f8a60c54b8f",
   "metadata": {},
   "outputs": [
    {
     "data": {
      "text/html": [
       "<div>\n",
       "<style scoped>\n",
       "    .dataframe tbody tr th:only-of-type {\n",
       "        vertical-align: middle;\n",
       "    }\n",
       "\n",
       "    .dataframe tbody tr th {\n",
       "        vertical-align: top;\n",
       "    }\n",
       "\n",
       "    .dataframe thead th {\n",
       "        text-align: right;\n",
       "    }\n",
       "</style>\n",
       "<table border=\"1\" class=\"dataframe\">\n",
       "  <thead>\n",
       "    <tr style=\"text-align: right;\">\n",
       "      <th></th>\n",
       "      <th>type</th>\n",
       "      <th>country</th>\n",
       "      <th>name</th>\n",
       "      <th>winery</th>\n",
       "      <th>alc</th>\n",
       "      <th>region</th>\n",
       "    </tr>\n",
       "  </thead>\n",
       "  <tbody>\n",
       "    <tr>\n",
       "      <th>348</th>\n",
       "      <td>1</td>\n",
       "      <td>0</td>\n",
       "      <td>1.0</td>\n",
       "      <td>1.0</td>\n",
       "      <td>0.75</td>\n",
       "      <td>1.0</td>\n",
       "    </tr>\n",
       "    <tr>\n",
       "      <th>349</th>\n",
       "      <td>1</td>\n",
       "      <td>0</td>\n",
       "      <td>1.0</td>\n",
       "      <td>1.0</td>\n",
       "      <td>0.75</td>\n",
       "      <td>1.0</td>\n",
       "    </tr>\n",
       "    <tr>\n",
       "      <th>350</th>\n",
       "      <td>1</td>\n",
       "      <td>0</td>\n",
       "      <td>1.0</td>\n",
       "      <td>1.0</td>\n",
       "      <td>0.50</td>\n",
       "      <td>1.0</td>\n",
       "    </tr>\n",
       "    <tr>\n",
       "      <th>351</th>\n",
       "      <td>1</td>\n",
       "      <td>0</td>\n",
       "      <td>1.0</td>\n",
       "      <td>1.0</td>\n",
       "      <td>0.50</td>\n",
       "      <td>1.0</td>\n",
       "    </tr>\n",
       "    <tr>\n",
       "      <th>352</th>\n",
       "      <td>1</td>\n",
       "      <td>0</td>\n",
       "      <td>1.0</td>\n",
       "      <td>1.0</td>\n",
       "      <td>0.75</td>\n",
       "      <td>1.0</td>\n",
       "    </tr>\n",
       "    <tr>\n",
       "      <th>...</th>\n",
       "      <td>...</td>\n",
       "      <td>...</td>\n",
       "      <td>...</td>\n",
       "      <td>...</td>\n",
       "      <td>...</td>\n",
       "      <td>...</td>\n",
       "    </tr>\n",
       "    <tr>\n",
       "      <th>890</th>\n",
       "      <td>1</td>\n",
       "      <td>0</td>\n",
       "      <td>1.0</td>\n",
       "      <td>1.0</td>\n",
       "      <td>0.25</td>\n",
       "      <td>1.0</td>\n",
       "    </tr>\n",
       "    <tr>\n",
       "      <th>891</th>\n",
       "      <td>1</td>\n",
       "      <td>0</td>\n",
       "      <td>1.0</td>\n",
       "      <td>1.0</td>\n",
       "      <td>0.75</td>\n",
       "      <td>1.0</td>\n",
       "    </tr>\n",
       "    <tr>\n",
       "      <th>892</th>\n",
       "      <td>1</td>\n",
       "      <td>0</td>\n",
       "      <td>1.0</td>\n",
       "      <td>1.0</td>\n",
       "      <td>0.50</td>\n",
       "      <td>1.0</td>\n",
       "    </tr>\n",
       "    <tr>\n",
       "      <th>893</th>\n",
       "      <td>1</td>\n",
       "      <td>0</td>\n",
       "      <td>1.0</td>\n",
       "      <td>1.0</td>\n",
       "      <td>0.25</td>\n",
       "      <td>1.0</td>\n",
       "    </tr>\n",
       "    <tr>\n",
       "      <th>899</th>\n",
       "      <td>1</td>\n",
       "      <td>0</td>\n",
       "      <td>1.0</td>\n",
       "      <td>1.0</td>\n",
       "      <td>0.50</td>\n",
       "      <td>1.0</td>\n",
       "    </tr>\n",
       "  </tbody>\n",
       "</table>\n",
       "<p>473 rows × 6 columns</p>\n",
       "</div>"
      ],
      "text/plain": [
       "     type  country  name  winery   alc  region\n",
       "348     1        0   1.0     1.0  0.75     1.0\n",
       "349     1        0   1.0     1.0  0.75     1.0\n",
       "350     1        0   1.0     1.0  0.50     1.0\n",
       "351     1        0   1.0     1.0  0.50     1.0\n",
       "352     1        0   1.0     1.0  0.75     1.0\n",
       "..    ...      ...   ...     ...   ...     ...\n",
       "890     1        0   1.0     1.0  0.25     1.0\n",
       "891     1        0   1.0     1.0  0.75     1.0\n",
       "892     1        0   1.0     1.0  0.50     1.0\n",
       "893     1        0   1.0     1.0  0.25     1.0\n",
       "899     1        0   1.0     1.0  0.50     1.0\n",
       "\n",
       "[473 rows x 6 columns]"
      ]
     },
     "execution_count": 39,
     "metadata": {},
     "output_type": "execute_result"
    }
   ],
   "source": [
    "res.loc[0]"
   ]
  }
 ],
 "metadata": {
  "kernelspec": {
   "display_name": "Python 3 (ipykernel)",
   "language": "python",
   "name": "python3"
  },
  "language_info": {
   "codemirror_mode": {
    "name": "ipython",
    "version": 3
   },
   "file_extension": ".py",
   "mimetype": "text/x-python",
   "name": "python",
   "nbconvert_exporter": "python",
   "pygments_lexer": "ipython3",
   "version": "3.9.2"
  }
 },
 "nbformat": 4,
 "nbformat_minor": 5
}
