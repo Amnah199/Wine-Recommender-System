{
 "cells": [
  {
   "cell_type": "code",
   "execution_count": 16,
   "id": "5e6587cc-5e2b-4132-8c11-d2b5f713e5fc",
   "metadata": {},
   "outputs": [],
   "source": [
    "import numpy as np\n",
    "import json\n",
    "import pandas as pd\n",
    "import recordlinkage\n",
    "import re"
   ]
  },
  {
   "cell_type": "code",
   "execution_count": 17,
   "id": "93de79b0-f18a-4054-baf8-ce7011531ca3",
   "metadata": {},
   "outputs": [],
   "source": [
    "vivino = pd.read_csv('/home/stepski/Desktop/vivinoD.csv', encoding='utf-8')\n",
    "local_wines = pd.read_csv('/home/stepski/Desktop/Data Integration/Wine Recommender/winerecommender/data-matching/matching_table.csv', encoding='utf-8')\n"
   ]
  },
  {
   "cell_type": "code",
   "execution_count": 18,
   "id": "088eba4f-8b6e-4b7c-a093-b8a89867d98c",
   "metadata": {},
   "outputs": [],
   "source": [
    "vivino[\"wine_name\"] = vivino[\"wine_name\"].str.lower()\n",
    "local_wines[\"wine_name\"] = local_wines[\"wine_name\"].str.lower()"
   ]
  },
  {
   "cell_type": "code",
   "execution_count": 19,
   "id": "040cc9ef-f3cd-472d-9e5a-36edd8134323",
   "metadata": {},
   "outputs": [],
   "source": [
    "indexer = recordlinkage.Index()\n",
    "indexer.block('wine_name')\n",
    "\n",
    "candidate_pairs = indexer.index(vivino, local_wines)"
   ]
  },
  {
   "cell_type": "code",
   "execution_count": 20,
   "id": "d512b7cd-6c6b-4761-af8a-8bafefec10ca",
   "metadata": {},
   "outputs": [
    {
     "data": {
      "text/plain": [
       "<Compare>"
      ]
     },
     "execution_count": 20,
     "metadata": {},
     "output_type": "execute_result"
    }
   ],
   "source": [
    "compare_wines = recordlinkage.Compare()\n",
    "compare_wines.string('wine_name', 'wine_name', method='jarowinkler', threshold=0.25, label='wine_name')"
   ]
  },
  {
   "cell_type": "code",
   "execution_count": 21,
   "id": "01af3ac1-4787-4c6d-88d7-5d59fa30fb38",
   "metadata": {},
   "outputs": [],
   "source": [
    "X = compare_wines.compute(candidate_pairs, vivino, local_wines)"
   ]
  },
  {
   "cell_type": "code",
   "execution_count": 22,
   "id": "0223a9d3-a9f5-46fb-a4eb-322f6c57a316",
   "metadata": {},
   "outputs": [
    {
     "data": {
      "text/html": [
       "<div>\n",
       "<style scoped>\n",
       "    .dataframe tbody tr th:only-of-type {\n",
       "        vertical-align: middle;\n",
       "    }\n",
       "\n",
       "    .dataframe tbody tr th {\n",
       "        vertical-align: top;\n",
       "    }\n",
       "\n",
       "    .dataframe thead th {\n",
       "        text-align: right;\n",
       "    }\n",
       "</style>\n",
       "<table border=\"1\" class=\"dataframe\">\n",
       "  <thead>\n",
       "    <tr style=\"text-align: right;\">\n",
       "      <th></th>\n",
       "      <th></th>\n",
       "      <th>wine_name</th>\n",
       "    </tr>\n",
       "  </thead>\n",
       "  <tbody>\n",
       "  </tbody>\n",
       "</table>\n",
       "</div>"
      ],
      "text/plain": [
       "Empty DataFrame\n",
       "Columns: [wine_name]\n",
       "Index: []"
      ]
     },
     "execution_count": 22,
     "metadata": {},
     "output_type": "execute_result"
    }
   ],
   "source": [
    "X"
   ]
  },
  {
   "cell_type": "code",
   "execution_count": null,
   "id": "7bf632a8-7dcd-49bc-8715-3f8a60c54b8f",
   "metadata": {},
   "outputs": [],
   "source": []
  }
 ],
 "metadata": {
  "kernelspec": {
   "display_name": "Python 3 (ipykernel)",
   "language": "python",
   "name": "python3"
  },
  "language_info": {
   "codemirror_mode": {
    "name": "ipython",
    "version": 3
   },
   "file_extension": ".py",
   "mimetype": "text/x-python",
   "name": "python",
   "nbconvert_exporter": "python",
   "pygments_lexer": "ipython3",
   "version": "3.8.12"
  }
 },
 "nbformat": 4,
 "nbformat_minor": 5
}
