{
 "cells": [
  {
   "cell_type": "code",
   "execution_count": 1,
   "metadata": {},
   "outputs": [],
   "source": [
    "import numpy as np\n",
    "import json\n",
    "import pandas as pd\n",
    "import recordlinkage\n",
    "import re"
   ]
  },
  {
   "cell_type": "markdown",
   "metadata": {},
   "source": [
    "read data"
   ]
  },
  {
   "cell_type": "code",
   "execution_count": 4,
   "metadata": {},
   "outputs": [],
   "source": [
    "with open('/home/p/wines/winerecommender/data-matching/vivino_data_combined_fm.json') as f:\n",
    "   vivino_data = json.load(f)\n",
    "vivino_full = pd.read_csv('/home/p/wines/winerecommender/data-matching/vivino_full.csv')\n",
    "di = pd.read_excel('/home/p/wines/winerecommender/Scraping/Data Sources - scraped/Direkt-Import.xlsx')\n",
    "dv = pd.read_excel('/home/p/wines/winerecommender/Scraping/Data Sources - scraped/Divino.xlsx')\n",
    "jacq = pd.read_csv('/home/p/wines/winerecommender/Scraping/jacques.de/jacques.csv', encoding='utf-8')\n",
    "\n",
    "\n"
   ]
  },
  {
   "cell_type": "markdown",
   "metadata": {},
   "source": [
    "format vivino data after extraction if necessary"
   ]
  },
  {
   "cell_type": "code",
   "execution_count": 5,
   "metadata": {},
   "outputs": [],
   "source": [
    "# filter vivino data by keys used for matching, transform to DataFrame and export as .csv\n",
    "cols = ['wine_id','wine_name','wine_winery', 'wine_country', 'wine_region', 'wine_year', 'wine_type', 'wine_price', 'wine_alcohol']\n",
    "\n",
    "vivDict_full = [{k: dic[k] for k in vivino_data[0].keys()} for dic in vivino_data]\n",
    "vivino_df = pd.DataFrame.from_dict(vivDict_full)\n",
    "vivino_df = vivino_df.set_index('wine_id')\n",
    "vivino_df.to_csv('/home/p/wines/winerecommender/data-matching/vivino_full.csv')\n"
   ]
  },
  {
   "cell_type": "markdown",
   "metadata": {},
   "source": [
    "Define helper functions to format local wine data"
   ]
  },
  {
   "cell_type": "code",
   "execution_count": 9,
   "metadata": {},
   "outputs": [],
   "source": [
    "#used to match dataframes by relevant columns\n",
    "\n",
    "def updateWineType(t):\n",
    "    switch = {\n",
    "        'Rotwein': 'red',\n",
    "        'Weißwein': 'white',\n",
    "        'Weisswein': 'white',\n",
    "        'Roséwein': 'rosé',\n",
    "        'red': 'red',\n",
    "        'white': 'white',\n",
    "        'rosé': 'rosé'\n",
    "    }\n",
    "\n",
    "    try: \n",
    "        return switch.get(t.replace(',','').strip().split(' ')[0], 'sparkling')\n",
    "    except:\n",
    "        return \n",
    "\n",
    "\n",
    "#formats price strings to xx.xx instead of eg. xx,xx$ or $xx.xx. likely unneccessarily complicated but works for now\n",
    "def formatPrice(x):\n",
    "    x = str(x).strip()\n",
    "    if re.match('/^\\d+,\\d+/', x):\n",
    "        return float(x.replace('.','').replace(',', '.'))\n",
    "    else:\n",
    "        if re.match('/^\\d+.\\d+$/', x):\n",
    "            return float(x)\n",
    "        else:\n",
    "            if re.match('^\\s*$', x):\n",
    "                return float(0)\n",
    "            else:\n",
    "                return float(x.replace('.','').replace(',', '.').replace('€', '').strip())\n",
    "\n",
    "#removes years from the name, keeps the producer though\n",
    "def removeYear(x):\n",
    "    sub = re.sub('\\d{4}', '', x)\n",
    "    return sub.strip()\n",
    "\n",
    "#formats alcohol percentage\n",
    "\n",
    "def formatAlcohol(x):\n",
    "    #if multiple percentages were scraped, just take the first one\n",
    "    x = str(x).split(', ')[0]\n",
    "    x = float(x.replace('%', '').replace(',','.').strip())\n",
    "    return x\n",
    "\n",
    "#takes year from name string of DirektImport wines\n",
    "\n",
    "def getYears(names):\n",
    "    out = []\n",
    "    for x in names:\n",
    "        x= str(x)\n",
    "        m = re.search('\\d{4}', x)\n",
    "        if m:\n",
    "            out.append(m.group(0))\n",
    "        else:\n",
    "            out.append(None)\n",
    "    return out\n",
    "\n",
    "#split the string by triple whitespace, then split first element by comma. return first element of that as winery, second element of first split as wine. Works for Direktimport due to consistent naming\n",
    "\n",
    "def splitWinery(names):\n",
    "    wineries = []\n",
    "    wines = [] \n",
    "\n",
    "    for x in names:\n",
    "        w = str(x).strip().split('   ')\n",
    "        wineries.append(w[0].strip().split(',')[0])\n",
    "        wines.append(w[1].strip())\n",
    "    return wineries, wines\n",
    "#get quality indicators from table\n",
    "def getQualityIndicators(array):\n",
    "    seen = set()\n",
    "    quals_set = []\n",
    "    for item in array:\n",
    "        quals = str(item).strip().split(',')\n",
    "        for qual in quals:\n",
    "            qual = qual.strip()\n",
    "            if qual not in seen:\n",
    "                seen.add(qual)\n",
    "                quals_set.append(qual)\n",
    "    return sorted(quals_set)\n",
    "\n",
    "\n",
    "#remove winery, strip spaces, remove quality sigs\n",
    "def formatName(x, quals):\n",
    "    x = removeYear(str(x))\n",
    "    for qual in quals:\n",
    "        if re.match(qual, x):\n",
    "            x = re.sub(qual, '', x)\n",
    "    re.sub('\\s+', ' ', x)\n",
    "    return x\n",
    "\n",
    "# replace values in df[col] with values in val if empty/None\n",
    "def replaceMissingYears(df, col, val):\n",
    "    indicies_of_missing = df[df[col].isnull()].index \n",
    "    for fill_index, dataframe_index in enumerate(indicies_of_missing):\n",
    "        df.loc[dataframe_index, col] = val[dataframe_index]\n",
    "    return df\n",
    "\n",
    "\n",
    "# removes bio certs from jacques wines\n",
    "\n",
    "def stripBio(x):\n",
    "    try:\n",
    "        x = re.sub('\\s–\\s[\\u00C0-\\u017Fa-zA-Z\\']{2}-[\\u00C0-\\u017Fa-zA-Z\\']{3}-\\d{2,3}', '' ,str(x)).strip()\n",
    "    except Exception as e:\n",
    "        print(e)\n",
    "    return x\n",
    "\n",
    "# removes bottle sizes\n",
    "def stripSize(x):\n",
    "    try:\n",
    "        x = re.sub('\\(?\\d,\\d{1,3}\\s*(\\S+)\\)?', '' ,str(x)).strip()\n",
    "        x = re.sub('(Magnum)?(flasche)?', '', x).strip()\n",
    "        x = x.replace('Doppelmagnum', '').strip()\n",
    "        x = re.sub('\\d{1,3}\\s*(m)?[lL](iter)?', '', x).strip()\n",
    "        x = re.sub('.?[gG]oldkapsel.?', '', x).strip()\n",
    "    except Exception as e:\n",
    "        print(e)\n",
    "    return x\n",
    "\n",
    "#remove weird year entries (e.g. Jahrgangscuvee)\n",
    "def formatYear(x):\n",
    "    if re.match('^\\d{4}$', str(x).strip()):\n",
    "        return x\n",
    "    else:\n",
    "        return None"
   ]
  },
  {
   "cell_type": "markdown",
   "metadata": {},
   "source": [
    "# Format Local Wine Data"
   ]
  },
  {
   "cell_type": "code",
   "execution_count": 11,
   "metadata": {},
   "outputs": [],
   "source": [
    "\n",
    "# ## DO NOT USE AGAIN, extracted regions and formatted alcohol from  early jacques scraper\n",
    "\n",
    "# def getRegionJacques(series):\n",
    "\n",
    "#     regions = []\n",
    "#     for item in series:\n",
    "#         temp = re.sub(' +', ' ',item.replace(\"\\xa0\", \"\").strip()).split('\\n\\n')\n",
    "#         try:\n",
    "#             regions.append(temp[0].split(', ')[1].strip())\n",
    "#         except:\n",
    "#             regions.append('')\n",
    "#     return regions\n",
    "\n",
    "\n",
    "jac2 = pd.DataFrame()\n",
    "\n",
    "#jac2 = pd.read_csv('/home/p/wines/winerecommender/Scraping/jacques.de/jacques.csv')\n",
    "jac2['wine_country'] = jacq['Herkunft']\n",
    "jac2['wine_year'] = getYears(jacq['Name'])\n",
    "jac2['wine_name'] = jacq['Name'].map(lambda x: removeYear(x))\n",
    "jac2['wine_name'] = jac2['wine_name'].map(lambda x: stripBio(x))\n",
    "jac2['wine_name'] = jac2['wine_name'].map(lambda x: stripSize(x))\n",
    "jac2['wine_seller'] = 3\n",
    "#jac2['wine_region'] = getRegionjacq(jacq['Name'])\n",
    "jac2['wine_alcohol'] = jacq['Alkoholgehalt'].map(lambda x: formatAlcohol(x))\n",
    "jac2['wine_price'] = jacq['Preis in euro'].map(lambda x: formatPrice(x))\n",
    "jac2['wine_type'] = jacq['Typ'].map(lambda x: updateWineType(x))\n",
    "jac2['wine_description'] = jacq['Beschreibung']\n",
    "jac2['wine_url'] = jacq['URL']\n",
    "jac2.applymap(lambda x: x.strip() if isinstance(x, str) else x)\n",
    "\n",
    "jac2.to_csv('/home/p/wines/winerecommender/data-matching/jacques_formatted.csv')"
   ]
  },
  {
   "cell_type": "code",
   "execution_count": 12,
   "metadata": {},
   "outputs": [
    {
     "name": "stdout",
     "output_type": "stream",
     "text": [
      "Index(['Id', 'Name:', 'Hersteller:', 'Erzeugnis aus:', 'Region:', 'Wein:',\n",
      "       'Jahrgang:', 'Rebsorte:', 'Qualität:', 'Alkohol in %:', 'Geschmack:',\n",
      "       'Allergene:', 'Trinktemperatur in °C:', 'Trinkempfehlung:',\n",
      "       'Dekantieren:', 'Verschluß:', 'Säure g/l:', 'Restzucker g/l:', 'Boden:',\n",
      "       'Essen:', 'Ausbauart:', 'Auszeichnungen:', 'Paßt zu:', 'Lage:',\n",
      "       'Herstellung:', 'Produkt aus biologischem Anbau:', 'Biokontrollstelle:',\n",
      "       'Diverses:', 'Zutaten:', 'Preis:', 'Image:', 'Details-URL:',\n",
      "       'Verkostungsnotiz:', 'Seller'],\n",
      "      dtype='object')\n"
     ]
    }
   ],
   "source": [
    "print(di.columns)\n",
    "cols=['wine_name','wine_winery', 'wine_country', 'wine_region', 'wine_year', 'wine_type', 'wine_price', 'wine_alcohol', 'wine_description', 'wine_thumb', 'wine_url', 'wine_seller']\n",
    "di = pd.read_excel('/home/p/wines/winerecommender/Scraping/Data Sources - scraped/Direkt-Import.xlsx')\n",
    "matching_df = pd.DataFrame(columns=cols)\n",
    "di['Region:'] = di['Region:'].map(lambda x: str(x).strip().split(', ')[0])\n",
    "di['Wein:'] = di['Wein:'].map(lambda x: updateWineType(x))\n",
    "di['Alkohol in %:'] = di['Alkohol in %:'].map(lambda x: formatAlcohol(x))\n",
    "di['Preis:'] = di['Preis:'].map(lambda x: formatPrice(x))\n",
    "years_temp = getYears(di['Name:'])\n",
    "di['Name:'] = di['Name:'].map(lambda x: removeYear(x))\n",
    "di['Name:'] = di['Name:'].map(lambda x: stripSize(x))\n",
    "\n",
    "#not sure how to put this in a function\n",
    "di = replaceMissingYears(di, 'Jahrgang:', years_temp)\n",
    "di['Jahrgang:'] = di['Jahrgang:'].map(lambda x: formatYear(x))\n",
    "# this is likely overkill and will produce weird results\n",
    "# quals = getQualityIndicators(di['Qualität:'])\n",
    "quals = []\n",
    "\n",
    "di['Hersteller:'], di['Name:'] = splitWinery(di['Name:'])\n",
    "di['Name:'] = di['Name:'].map(lambda x: formatName(x, quals))\n",
    "\n",
    "di_new = di[['Name:', 'Hersteller:', 'Erzeugnis aus:', 'Region:', 'Jahrgang:', 'Wein:', 'Preis:', 'Alkohol in %:', 'Verkostungsnotiz:', 'Image:', 'Details-URL:', 'Seller']]\n",
    "di_new.columns = cols\n",
    "\n",
    "#remove sets of wines offered by direktimport\n",
    "di_new = di_new[~di_new['wine_name'].str.contains('paket')]\n",
    "di_new = di_new[~di_new['wine_name'].str.contains('Paket')]\n",
    "di_new.applymap(lambda x: x.strip() if isinstance(x, str) else x)\n",
    "di_new.to_csv('/home/p/wines/winerecommender/data-matching/direktimport_formatted.csv')\n",
    "   "
   ]
  },
  {
   "cell_type": "code",
   "execution_count": 13,
   "metadata": {},
   "outputs": [
    {
     "name": "stdout",
     "output_type": "stream",
     "text": [
      "Index(['Id', 'Name', 'Jahrgang', 'Rebsorte', 'Weingut', 'Produktbezeichnung',\n",
      "       'Ort', 'Passt gut zu', 'Herkunftsland', 'Anlass', 'Größe des Winzers',\n",
      "       'Winzer', 'Region', 'Herstellungsmethode', 'Art', 'Lagerfähigkeit',\n",
      "       'Charakteristik', 'Preis', 'Image', 'Details-URL', 'Beschreibung',\n",
      "       'Seller'],\n",
      "      dtype='object')\n"
     ]
    }
   ],
   "source": [
    "print(dv.columns)\n",
    "dv = pd.read_excel('/home/p/wines/winerecommender/Scraping/Data Sources - scraped/Divino.xlsx')\n",
    "\n",
    "#missing alcohol, reliable winery info\n",
    "\n",
    "cols=['wine_name','wine_country', 'wine_region', 'wine_year', 'wine_type', 'wine_price', 'wine_thumb', 'wine_description', 'wine_url', 'wine_seller']\n",
    "\n",
    "years_temp = getYears(dv['Name'])\n",
    "dv = replaceMissingYears(dv, 'Jahrgang', years_temp)\n",
    "dv['Jahrgang'] = dv['Jahrgang'].map(lambda x: formatYear(x))\n",
    "dv['Art'] = dv['Art'].map(lambda x: updateWineType(x))\n",
    "dv['Preis'] = dv['Preis'].map(lambda x: formatPrice(x))\n",
    "dv['Name'] = dv['Name'].map(lambda x: removeYear(x))\n",
    "dv['Name'] = dv['Name'].map(lambda x: stripSize(x))\n",
    "dv_new = dv[['Name', 'Herkunftsland', 'Region', 'Jahrgang', 'Art', 'Preis', 'Image', 'Beschreibung', 'Details-URL', 'Seller']]\n",
    "dv_new.columns = cols\n",
    "\n",
    "#house brand again\n",
    "dv_new = dv_new[~dv_new['wine_name'].str.contains('divino.de')]\n",
    "dv_new.applymap(lambda x: x.strip() if isinstance(x, str) else x)\n",
    "dv_new.to_csv('/home/p/wines/winerecommender/data-matching/divino_formatted.csv')\n",
    "\n"
   ]
  },
  {
   "cell_type": "markdown",
   "metadata": {},
   "source": [
    "combine local wines to singular DF/table for DB dump"
   ]
  },
  {
   "cell_type": "code",
   "execution_count": 21,
   "metadata": {},
   "outputs": [
    {
     "name": "stdout",
     "output_type": "stream",
     "text": [
      "(1326, 11)\n"
     ]
    }
   ],
   "source": [
    "local_cols = ['wine_name','wine_country', 'wine_region', 'wine_year', 'wine_type', 'wine_price', 'wine_url', 'wine_thumb', 'wine_description', 'wine_seller']\n",
    "\n",
    "direktimport = pd.read_csv('/home/p/wines/winerecommender/data-matching/direktimport_formatted.csv', encoding='utf-8')\n",
    "divino = pd.read_csv('/home/p/wines/winerecommender/data-matching/divino_formatted.csv', encoding='utf-8')\n",
    "jacques = pd.read_csv('/home/p/wines/winerecommender/data-matching/jacques_formatted.csv', encoding='utf-8')\n",
    "\n",
    "direktimport[\"wine_name\"] = direktimport[\"wine_winery\"] + ' ' + direktimport[\"wine_name\"]\n",
    "jacques[\"wine_region\"] = None\n",
    "jacques[\"wine_thumb\"] = None\n",
    "divino = divino[local_cols]\n",
    "direktimport = direktimport[local_cols]\n",
    "jacques = jacques[local_cols]\n",
    "\n",
    "local_df = pd.DataFrame(columns= local_cols)\n",
    "local_df = local_df.append(direktimport)\n",
    "local_df = local_df.append(divino)\n",
    "local_df = local_df.append(jacques)\n",
    "local_df[\"taste_id\"] = None\n",
    "local_df = local_df.dropna(subset=['wine_country'])\n",
    "local_df.applymap(lambda x: x.strip() if isinstance(x, str) else x)\n",
    "print(local_df.shape)\n",
    "\n",
    "local_df.to_csv('/home/p/wines/winerecommender/data-matching/local_wines_formatted.csv')\n"
   ]
  },
  {
   "cell_type": "markdown",
   "metadata": {},
   "source": [
    "# match local data\n",
    "We scraped data from Vivino in multiple iterations due to the present complexity, aiming to achieve sufficient coverage for local wines.\n",
    "These cells were used for the first iteration, in order to determine the amount of required re-scraping to be done based on each vendor's present inventory.\n",
    "Where possible, we matched winery and wine name seperately to increase accuracy, though this was only an option for Wein-Direktimport as both Jacques' and Divino's scraping data proved nigh impossible to work with in this regard. \n",
    "For these cases, the strings were combined to a full wine name.\n",
    "Additionally, some manual data cleaning was performed on the smaller Divino & Jacques sets to eliminate size denotations (e.g. Magnum, 0,5 L, 1 Liter). It would have been possible to automate this using RegEx, but the amount of effort required for all edge cases is not in proportion to the requirements of this project."
   ]
  },
  {
   "cell_type": "code",
   "execution_count": 29,
   "metadata": {},
   "outputs": [],
   "source": [
    "import numpy as np\n",
    "import json\n",
    "import pandas as pd\n",
    "import recordlinkage\n",
    "import re\n",
    "import datasketch\n",
    "import fuzzymatcher\n",
    "\n",
    "vivino = pd.read_csv('/home/p/wines/winerecommender/data-matching/vivino_full.csv', encoding='utf-8')\n",
    "\n",
    "direktimport = pd.read_csv('/home/p/wines/winerecommender/data-matching/direktimport_formatted.csv', encoding='utf-8')\n",
    "divino = pd.read_csv('/home/p/wines/winerecommender/data-matching/divino_formatted.csv', encoding='utf-8')\n",
    "jacques = pd.read_csv('/home/p/wines/winerecommender/data-matching/jacques_wines.csv', encoding='utf-8')"
   ]
  },
  {
   "cell_type": "markdown",
   "metadata": {},
   "source": [
    "match vivino and direktimport"
   ]
  },
  {
   "cell_type": "code",
   "execution_count": 30,
   "metadata": {},
   "outputs": [
    {
     "ename": "KeyboardInterrupt",
     "evalue": "",
     "output_type": "error",
     "traceback": [
      "\u001b[0;31m---------------------------------------------------------------------------\u001b[0m",
      "\u001b[0;31mKeyboardInterrupt\u001b[0m                         Traceback (most recent call last)",
      "\u001b[0;32m/tmp/ipykernel_10771/1972695561.py\u001b[0m in \u001b[0;36m<module>\u001b[0;34m\u001b[0m\n\u001b[1;32m      3\u001b[0m \u001b[0mdirektimportf\u001b[0m \u001b[0;34m=\u001b[0m \u001b[0mdirektimport\u001b[0m\u001b[0;34m[\u001b[0m\u001b[0mons\u001b[0m\u001b[0;34m]\u001b[0m\u001b[0;34m\u001b[0m\u001b[0;34m\u001b[0m\u001b[0m\n\u001b[1;32m      4\u001b[0m \u001b[0;34m\u001b[0m\u001b[0m\n\u001b[0;32m----> 5\u001b[0;31m \u001b[0mresf_di\u001b[0m \u001b[0;34m=\u001b[0m \u001b[0mfuzzymatcher\u001b[0m\u001b[0;34m.\u001b[0m\u001b[0mfuzzy_left_join\u001b[0m\u001b[0;34m(\u001b[0m\u001b[0mdirektimportf\u001b[0m\u001b[0;34m,\u001b[0m \u001b[0mvivinof_di\u001b[0m\u001b[0;34m,\u001b[0m \u001b[0mons\u001b[0m\u001b[0;34m,\u001b[0m \u001b[0mons\u001b[0m\u001b[0;34m)\u001b[0m\u001b[0;34m\u001b[0m\u001b[0;34m\u001b[0m\u001b[0m\n\u001b[0m\u001b[1;32m      6\u001b[0m \u001b[0mresf_di\u001b[0m\u001b[0;34m.\u001b[0m\u001b[0msort_values\u001b[0m\u001b[0;34m(\u001b[0m\u001b[0;34m'best_match_score'\u001b[0m\u001b[0;34m,\u001b[0m \u001b[0mascending\u001b[0m \u001b[0;34m=\u001b[0m \u001b[0;32mFalse\u001b[0m\u001b[0;34m,\u001b[0m \u001b[0minplace\u001b[0m\u001b[0;34m=\u001b[0m\u001b[0;32mTrue\u001b[0m\u001b[0;34m)\u001b[0m\u001b[0;34m\u001b[0m\u001b[0;34m\u001b[0m\u001b[0m\n\u001b[1;32m      7\u001b[0m \u001b[0mresf_di\u001b[0m\u001b[0;34m.\u001b[0m\u001b[0mto_csv\u001b[0m\u001b[0;34m(\u001b[0m\u001b[0;34m'/home/p/wines/winerecommender/data-matching/fuzzymatch_results/fuzzy_results_di.csv'\u001b[0m\u001b[0;34m)\u001b[0m\u001b[0;34m\u001b[0m\u001b[0;34m\u001b[0m\u001b[0m\n",
      "\u001b[0;32m~/Envs/wines/lib/python3.9/site-packages/fuzzymatcher/__init__.py\u001b[0m in \u001b[0;36mfuzzy_left_join\u001b[0;34m(df_left, df_right, left_on, right_on, left_id_col, right_id_col)\u001b[0m\n\u001b[1;32m     39\u001b[0m     \u001b[0mm\u001b[0m \u001b[0;34m=\u001b[0m \u001b[0mMatcher\u001b[0m\u001b[0;34m(\u001b[0m\u001b[0mdp\u001b[0m\u001b[0;34m,\u001b[0m \u001b[0mdg\u001b[0m\u001b[0;34m,\u001b[0m \u001b[0ms\u001b[0m\u001b[0;34m)\u001b[0m\u001b[0;34m\u001b[0m\u001b[0;34m\u001b[0m\u001b[0m\n\u001b[1;32m     40\u001b[0m     \u001b[0mm\u001b[0m\u001b[0;34m.\u001b[0m\u001b[0madd_data\u001b[0m\u001b[0;34m(\u001b[0m\u001b[0mdf_left\u001b[0m\u001b[0;34m,\u001b[0m \u001b[0mdf_right\u001b[0m\u001b[0;34m,\u001b[0m \u001b[0mleft_on\u001b[0m\u001b[0;34m,\u001b[0m \u001b[0mright_on\u001b[0m\u001b[0;34m,\u001b[0m  \u001b[0mleft_id_col\u001b[0m\u001b[0;34m,\u001b[0m \u001b[0mright_id_col\u001b[0m\u001b[0;34m)\u001b[0m\u001b[0;34m\u001b[0m\u001b[0;34m\u001b[0m\u001b[0m\n\u001b[0;32m---> 41\u001b[0;31m     \u001b[0mm\u001b[0m\u001b[0;34m.\u001b[0m\u001b[0mmatch_all\u001b[0m\u001b[0;34m(\u001b[0m\u001b[0;34m)\u001b[0m\u001b[0;34m\u001b[0m\u001b[0;34m\u001b[0m\u001b[0m\n\u001b[0m\u001b[1;32m     42\u001b[0m \u001b[0;34m\u001b[0m\u001b[0m\n\u001b[1;32m     43\u001b[0m     \u001b[0;32mreturn\u001b[0m \u001b[0mm\u001b[0m\u001b[0;34m.\u001b[0m\u001b[0mget_left_join_table\u001b[0m\u001b[0;34m(\u001b[0m\u001b[0;34m)\u001b[0m\u001b[0;34m\u001b[0m\u001b[0;34m\u001b[0m\u001b[0m\n",
      "\u001b[0;32m~/Envs/wines/lib/python3.9/site-packages/fuzzymatcher/matcher.py\u001b[0m in \u001b[0;36mmatch_all\u001b[0;34m(self)\u001b[0m\n\u001b[1;32m     82\u001b[0m         \u001b[0mself\u001b[0m\u001b[0;34m.\u001b[0m\u001b[0mdata_preprocessor\u001b[0m\u001b[0;34m.\u001b[0m\u001b[0mpreprocess\u001b[0m\u001b[0;34m(\u001b[0m\u001b[0;34m)\u001b[0m\u001b[0;34m\u001b[0m\u001b[0;34m\u001b[0m\u001b[0m\n\u001b[1;32m     83\u001b[0m \u001b[0;34m\u001b[0m\u001b[0m\n\u001b[0;32m---> 84\u001b[0;31m         \u001b[0mself\u001b[0m\u001b[0;34m.\u001b[0m\u001b[0minitiate_records\u001b[0m\u001b[0;34m(\u001b[0m\u001b[0;34m)\u001b[0m\u001b[0;34m\u001b[0m\u001b[0;34m\u001b[0m\u001b[0m\n\u001b[0m\u001b[1;32m     85\u001b[0m \u001b[0;34m\u001b[0m\u001b[0m\n\u001b[1;32m     86\u001b[0m         \u001b[0;31m# Scorer first because some data getters may need to score records on add_data\u001b[0m\u001b[0;34m\u001b[0m\u001b[0;34m\u001b[0m\u001b[0;34m\u001b[0m\u001b[0m\n",
      "\u001b[0;32m~/Envs/wines/lib/python3.9/site-packages/fuzzymatcher/matcher.py\u001b[0m in \u001b[0;36minitiate_records\u001b[0;34m(self)\u001b[0m\n\u001b[1;32m     70\u001b[0m         \u001b[0mcols\u001b[0m\u001b[0;34m.\u001b[0m\u001b[0mappend\u001b[0m\u001b[0;34m(\u001b[0m\u001b[0;34m\"__id_right\"\u001b[0m\u001b[0;34m)\u001b[0m\u001b[0;34m\u001b[0m\u001b[0;34m\u001b[0m\u001b[0m\n\u001b[1;32m     71\u001b[0m         \u001b[0mdf\u001b[0m \u001b[0;34m=\u001b[0m \u001b[0mself\u001b[0m\u001b[0;34m.\u001b[0m\u001b[0mdf_right\u001b[0m\u001b[0;34m[\u001b[0m\u001b[0mcols\u001b[0m\u001b[0;34m]\u001b[0m\u001b[0;34m\u001b[0m\u001b[0;34m\u001b[0m\u001b[0m\n\u001b[0;32m---> 72\u001b[0;31m         \u001b[0;32mfor\u001b[0m \u001b[0mr\u001b[0m \u001b[0;32min\u001b[0m \u001b[0mdf\u001b[0m\u001b[0;34m.\u001b[0m\u001b[0miterrows\u001b[0m\u001b[0;34m(\u001b[0m\u001b[0;34m)\u001b[0m\u001b[0;34m:\u001b[0m\u001b[0;34m\u001b[0m\u001b[0;34m\u001b[0m\u001b[0m\n\u001b[0m\u001b[1;32m     73\u001b[0m             \u001b[0mrow\u001b[0m \u001b[0;34m=\u001b[0m \u001b[0mr\u001b[0m\u001b[0;34m[\u001b[0m\u001b[0;36m1\u001b[0m\u001b[0;34m]\u001b[0m\u001b[0;34m\u001b[0m\u001b[0;34m\u001b[0m\u001b[0m\n\u001b[1;32m     74\u001b[0m             \u001b[0mfields_dict\u001b[0m \u001b[0;34m=\u001b[0m \u001b[0mdict\u001b[0m\u001b[0;34m(\u001b[0m\u001b[0mrow\u001b[0m\u001b[0;34m[\u001b[0m\u001b[0mself\u001b[0m\u001b[0;34m.\u001b[0m\u001b[0mright_on\u001b[0m\u001b[0;34m]\u001b[0m\u001b[0;34m)\u001b[0m\u001b[0;34m\u001b[0m\u001b[0;34m\u001b[0m\u001b[0m\n",
      "\u001b[0;32m~/Envs/wines/lib/python3.9/site-packages/pandas/core/frame.py\u001b[0m in \u001b[0;36miterrows\u001b[0;34m(self)\u001b[0m\n\u001b[1;32m   1261\u001b[0m         \u001b[0mklass\u001b[0m \u001b[0;34m=\u001b[0m \u001b[0mself\u001b[0m\u001b[0;34m.\u001b[0m\u001b[0m_constructor_sliced\u001b[0m\u001b[0;34m\u001b[0m\u001b[0;34m\u001b[0m\u001b[0m\n\u001b[1;32m   1262\u001b[0m         \u001b[0;32mfor\u001b[0m \u001b[0mk\u001b[0m\u001b[0;34m,\u001b[0m \u001b[0mv\u001b[0m \u001b[0;32min\u001b[0m \u001b[0mzip\u001b[0m\u001b[0;34m(\u001b[0m\u001b[0mself\u001b[0m\u001b[0;34m.\u001b[0m\u001b[0mindex\u001b[0m\u001b[0;34m,\u001b[0m \u001b[0mself\u001b[0m\u001b[0;34m.\u001b[0m\u001b[0mvalues\u001b[0m\u001b[0;34m)\u001b[0m\u001b[0;34m:\u001b[0m\u001b[0;34m\u001b[0m\u001b[0;34m\u001b[0m\u001b[0m\n\u001b[0;32m-> 1263\u001b[0;31m             \u001b[0ms\u001b[0m \u001b[0;34m=\u001b[0m \u001b[0mklass\u001b[0m\u001b[0;34m(\u001b[0m\u001b[0mv\u001b[0m\u001b[0;34m,\u001b[0m \u001b[0mindex\u001b[0m\u001b[0;34m=\u001b[0m\u001b[0mcolumns\u001b[0m\u001b[0;34m,\u001b[0m \u001b[0mname\u001b[0m\u001b[0;34m=\u001b[0m\u001b[0mk\u001b[0m\u001b[0;34m)\u001b[0m\u001b[0;34m\u001b[0m\u001b[0;34m\u001b[0m\u001b[0m\n\u001b[0m\u001b[1;32m   1264\u001b[0m             \u001b[0;32myield\u001b[0m \u001b[0mk\u001b[0m\u001b[0;34m,\u001b[0m \u001b[0ms\u001b[0m\u001b[0;34m\u001b[0m\u001b[0;34m\u001b[0m\u001b[0m\n\u001b[1;32m   1265\u001b[0m \u001b[0;34m\u001b[0m\u001b[0m\n",
      "\u001b[0;32m~/Envs/wines/lib/python3.9/site-packages/pandas/core/series.py\u001b[0m in \u001b[0;36m__init__\u001b[0;34m(self, data, index, dtype, name, copy, fastpath)\u001b[0m\n\u001b[1;32m    445\u001b[0m                     \u001b[0mdata\u001b[0m \u001b[0;34m=\u001b[0m \u001b[0mSingleArrayManager\u001b[0m\u001b[0;34m.\u001b[0m\u001b[0mfrom_array\u001b[0m\u001b[0;34m(\u001b[0m\u001b[0mdata\u001b[0m\u001b[0;34m,\u001b[0m \u001b[0mindex\u001b[0m\u001b[0;34m)\u001b[0m\u001b[0;34m\u001b[0m\u001b[0;34m\u001b[0m\u001b[0m\n\u001b[1;32m    446\u001b[0m \u001b[0;34m\u001b[0m\u001b[0m\n\u001b[0;32m--> 447\u001b[0;31m         \u001b[0mgeneric\u001b[0m\u001b[0;34m.\u001b[0m\u001b[0mNDFrame\u001b[0m\u001b[0;34m.\u001b[0m\u001b[0m__init__\u001b[0m\u001b[0;34m(\u001b[0m\u001b[0mself\u001b[0m\u001b[0;34m,\u001b[0m \u001b[0mdata\u001b[0m\u001b[0;34m)\u001b[0m\u001b[0;34m\u001b[0m\u001b[0;34m\u001b[0m\u001b[0m\n\u001b[0m\u001b[1;32m    448\u001b[0m         \u001b[0mself\u001b[0m\u001b[0;34m.\u001b[0m\u001b[0mname\u001b[0m \u001b[0;34m=\u001b[0m \u001b[0mname\u001b[0m\u001b[0;34m\u001b[0m\u001b[0;34m\u001b[0m\u001b[0m\n\u001b[1;32m    449\u001b[0m         \u001b[0mself\u001b[0m\u001b[0;34m.\u001b[0m\u001b[0m_set_axis\u001b[0m\u001b[0;34m(\u001b[0m\u001b[0;36m0\u001b[0m\u001b[0;34m,\u001b[0m \u001b[0mindex\u001b[0m\u001b[0;34m,\u001b[0m \u001b[0mfastpath\u001b[0m\u001b[0;34m=\u001b[0m\u001b[0;32mTrue\u001b[0m\u001b[0;34m)\u001b[0m\u001b[0;34m\u001b[0m\u001b[0;34m\u001b[0m\u001b[0m\n",
      "\u001b[0;32m~/Envs/wines/lib/python3.9/site-packages/pandas/core/generic.py\u001b[0m in \u001b[0;36m__init__\u001b[0;34m(self, data, copy, attrs)\u001b[0m\n\u001b[1;32m    247\u001b[0m             \u001b[0mattrs\u001b[0m \u001b[0;34m=\u001b[0m \u001b[0mdict\u001b[0m\u001b[0;34m(\u001b[0m\u001b[0mattrs\u001b[0m\u001b[0;34m)\u001b[0m\u001b[0;34m\u001b[0m\u001b[0;34m\u001b[0m\u001b[0m\n\u001b[1;32m    248\u001b[0m         \u001b[0mobject\u001b[0m\u001b[0;34m.\u001b[0m\u001b[0m__setattr__\u001b[0m\u001b[0;34m(\u001b[0m\u001b[0mself\u001b[0m\u001b[0;34m,\u001b[0m \u001b[0;34m\"_attrs\"\u001b[0m\u001b[0;34m,\u001b[0m \u001b[0mattrs\u001b[0m\u001b[0;34m)\u001b[0m\u001b[0;34m\u001b[0m\u001b[0;34m\u001b[0m\u001b[0m\n\u001b[0;32m--> 249\u001b[0;31m         \u001b[0mobject\u001b[0m\u001b[0;34m.\u001b[0m\u001b[0m__setattr__\u001b[0m\u001b[0;34m(\u001b[0m\u001b[0mself\u001b[0m\u001b[0;34m,\u001b[0m \u001b[0;34m\"_flags\"\u001b[0m\u001b[0;34m,\u001b[0m \u001b[0mFlags\u001b[0m\u001b[0;34m(\u001b[0m\u001b[0mself\u001b[0m\u001b[0;34m,\u001b[0m \u001b[0mallows_duplicate_labels\u001b[0m\u001b[0;34m=\u001b[0m\u001b[0;32mTrue\u001b[0m\u001b[0;34m)\u001b[0m\u001b[0;34m)\u001b[0m\u001b[0;34m\u001b[0m\u001b[0;34m\u001b[0m\u001b[0m\n\u001b[0m\u001b[1;32m    250\u001b[0m \u001b[0;34m\u001b[0m\u001b[0m\n\u001b[1;32m    251\u001b[0m     \u001b[0;34m@\u001b[0m\u001b[0mclassmethod\u001b[0m\u001b[0;34m\u001b[0m\u001b[0;34m\u001b[0m\u001b[0m\n",
      "\u001b[0;32m~/Envs/wines/lib/python3.9/site-packages/pandas/core/flags.py\u001b[0m in \u001b[0;36m__init__\u001b[0;34m(self, obj, allows_duplicate_labels)\u001b[0m\n\u001b[1;32m     45\u001b[0m     \u001b[0m_keys\u001b[0m \u001b[0;34m=\u001b[0m \u001b[0;34m{\u001b[0m\u001b[0;34m\"allows_duplicate_labels\"\u001b[0m\u001b[0;34m}\u001b[0m\u001b[0;34m\u001b[0m\u001b[0;34m\u001b[0m\u001b[0m\n\u001b[1;32m     46\u001b[0m \u001b[0;34m\u001b[0m\u001b[0m\n\u001b[0;32m---> 47\u001b[0;31m     \u001b[0;32mdef\u001b[0m \u001b[0m__init__\u001b[0m\u001b[0;34m(\u001b[0m\u001b[0mself\u001b[0m\u001b[0;34m,\u001b[0m \u001b[0mobj\u001b[0m\u001b[0;34m,\u001b[0m \u001b[0;34m*\u001b[0m\u001b[0;34m,\u001b[0m \u001b[0mallows_duplicate_labels\u001b[0m\u001b[0;34m)\u001b[0m\u001b[0;34m:\u001b[0m\u001b[0;34m\u001b[0m\u001b[0;34m\u001b[0m\u001b[0m\n\u001b[0m\u001b[1;32m     48\u001b[0m         \u001b[0mself\u001b[0m\u001b[0;34m.\u001b[0m\u001b[0m_allows_duplicate_labels\u001b[0m \u001b[0;34m=\u001b[0m \u001b[0mallows_duplicate_labels\u001b[0m\u001b[0;34m\u001b[0m\u001b[0;34m\u001b[0m\u001b[0m\n\u001b[1;32m     49\u001b[0m         \u001b[0mself\u001b[0m\u001b[0;34m.\u001b[0m\u001b[0m_obj\u001b[0m \u001b[0;34m=\u001b[0m \u001b[0mweakref\u001b[0m\u001b[0;34m.\u001b[0m\u001b[0mref\u001b[0m\u001b[0;34m(\u001b[0m\u001b[0mobj\u001b[0m\u001b[0;34m)\u001b[0m\u001b[0;34m\u001b[0m\u001b[0;34m\u001b[0m\u001b[0m\n",
      "\u001b[0;31mKeyboardInterrupt\u001b[0m: "
     ]
    }
   ],
   "source": [
    "ons = ['wine_name', 'wine_winery', 'wine_country', 'wine_region', 'wine_type']\n",
    "vivinof_di = vivino[ons]\n",
    "direktimportf = direktimport[ons]\n",
    "\n",
    "resf_di = fuzzymatcher.fuzzy_left_join(direktimportf, vivinof_di, ons, ons)\n",
    "resf_di.sort_values('best_match_score', ascending = False, inplace=True)\n",
    "resf_di.to_csv('/home/p/wines/winerecommender/data-matching/fuzzymatch_results/fuzzy_results_di.csv')"
   ]
  },
  {
   "cell_type": "markdown",
   "metadata": {},
   "source": [
    "this resulted in about 170 usable matches, the rest needed to be rescraped. "
   ]
  },
  {
   "cell_type": "code",
   "execution_count": 13,
   "metadata": {},
   "outputs": [],
   "source": [
    "X = 170\n",
    "resf_di['search'] = resf_di['wine_winery_left'] +' '+ resf_di['wine_name_left']\n",
    "resf_di['index'] = list(range(len(resf_di['search'])))\n",
    "resf_di.set_index('index', inplace=True)\n",
    "strings = list(resf_di['search'][X:])\n",
    "ids = list(resf_di['__id_left'].map(lambda x: x.split('_')[0])[X:])\n",
    "i=0\n",
    "out = []\n",
    "for string in strings:\n",
    "    out.append({\n",
    "        \"local_id\": ids[i],\n",
    "        \"search_string\": string\n",
    "    })\n",
    "    i+=1\n",
    "\n",
    "with open(\"/home/p/wines/winerecommender/data-matching/rescrape/search_di.json\", \"w\") as f:\n",
    "    f.write(json.dumps(out))"
   ]
  },
  {
   "cell_type": "markdown",
   "metadata": {},
   "source": [
    "match vivino and divino"
   ]
  },
  {
   "cell_type": "code",
   "execution_count": 15,
   "metadata": {},
   "outputs": [],
   "source": [
    "vivino[\"full_name\"] = vivino[\"wine_winery\"] + ' ' + vivino[\"wine_name\"]\n",
    "ons = ['full_name', 'wine_country', 'wine_region', 'wine_type']\n",
    "vivinof_dv = vivino[ons]\n",
    "divino[\"full_name\"] = divino[\"wine_name\"]\n",
    "divinof = divino[ons]\n",
    "resf_dv = fuzzymatcher.fuzzy_left_join(divinof, vivinof_dv, ons, ons)\n",
    "resf_dv.sort_values('best_match_score', ascending = False, inplace=True)\n",
    "resf_dv.to_csv('/home/p/wines/winerecommender/data-matching/fuzzymatch_results/fuzzy_results_dv.csv')\n"
   ]
  },
  {
   "cell_type": "markdown",
   "metadata": {},
   "source": [
    "this resulted in approx. 9 usable matches, with the rest needing rescraping"
   ]
  },
  {
   "cell_type": "code",
   "execution_count": 18,
   "metadata": {},
   "outputs": [],
   "source": [
    "x = 9\n",
    "resf_dv['search'] = resf_dv['full_name_left']\n",
    "resf_dv['index'] = list(range(len(resf_dv['search'])))\n",
    "resf_dv.set_index('index', inplace=True)\n",
    "strings = list(resf_dv['search'][x:])\n",
    "ids = list(resf_dv['__id_left'].map(lambda x: x.split('_')[0])[x:])\n",
    "i=0\n",
    "out = []\n",
    "for string in strings:\n",
    "    out.append({\n",
    "        \"local_id\": ids[i],\n",
    "        \"search_string\": string\n",
    "    })\n",
    "    i+=1\n",
    "\n",
    "with open(\"/home/p/wines/winerecommender/data-matching/rescrape/search_dv.json\", \"w\") as f:\n",
    "    f.write(json.dumps(out))"
   ]
  },
  {
   "cell_type": "markdown",
   "metadata": {},
   "source": [
    "match jacques and vivino"
   ]
  },
  {
   "cell_type": "code",
   "execution_count": 25,
   "metadata": {},
   "outputs": [],
   "source": [
    "vivino[\"full_name\"] = vivino[\"wine_winery\"] + ' ' + vivino[\"wine_name\"]\n",
    "ons = ['full_name', 'wine_country', 'wine_type']\n",
    "jacques[\"full_name\"] = jacques[\"wine_name\"]\n",
    "vivinof_j = vivino[ons]\n",
    "jacquef = jacques[ons]\n",
    "resf_j = fuzzymatcher.fuzzy_left_join(jacquef, vivinof_j, ons, ons)\n",
    "resf_j.sort_values('best_match_score', ascending = False, inplace=True)\n",
    "resf_j.to_csv('/home/p/wines/winerecommender/data-matching/fuzzymatch_results/fuzzy_results_j.csv')\n"
   ]
  },
  {
   "cell_type": "markdown",
   "metadata": {},
   "source": [
    "this resulted in 25 usable matches, with the rest needing rescraping"
   ]
  },
  {
   "cell_type": "code",
   "execution_count": 26,
   "metadata": {},
   "outputs": [],
   "source": [
    "x = 25\n",
    "resf_j['search'] = resf_j['full_name_left']\n",
    "resf_j['index'] = list(range(len(resf_j['search'])))\n",
    "resf_j.set_index('index', inplace=True)\n",
    "strings = list(resf_j['search'][x:])\n",
    "ids = list(resf_j['__id_left'].map(lambda x: x.split('_')[0])[x:])\n",
    "i=0\n",
    "out = []\n",
    "for string in strings:\n",
    "    out.append({\n",
    "        \"local_id\": ids[i],\n",
    "        \"search_string\": string\n",
    "    })\n",
    "    i+=1\n",
    "\n",
    "with open(\"/home/p/wines/winerecommender/data-matching/rescrape/search_j.json\", \"w\") as f:\n",
    "    f.write(json.dumps(out))"
   ]
  },
  {
   "cell_type": "markdown",
   "metadata": {},
   "source": [
    "# match full table after rescraping\n",
    "After scraping more wines from vivino, we look to match as many wines as possible between out local set and our vivino set."
   ]
  },
  {
   "cell_type": "code",
   "execution_count": 37,
   "metadata": {},
   "outputs": [],
   "source": [
    "import fuzzymatcher\n",
    "local = pd.read_csv('/home/p/wines/winerecommender/data-matching/local_wines_formatted.csv')\n",
    "vivino = pd.read_csv('/home/p/wines/winerecommender/data-matching/vivino_full.csv', encoding='utf-8')\n",
    "vivino[\"wine_name\"] = vivino[\"wine_winery\"] + ' ' + vivino[\"wine_name\"]\n",
    "vivino.set_index(\"wine_id\")\n",
    "ons = ['wine_name', 'wine_country', 'wine_type']\n",
    "\n",
    "resf = fuzzymatcher.fuzzy_left_join(local, vivino, ons, ons)\n",
    "local[\"taste_id\"] = list(resf[\"wine_id\"])\n",
    "resf.sort_values('best_match_score', ascending = False, inplace=True)\n",
    "resf.to_csv('/home/p/wines/winerecommender/data-matching/fuzzymatch_results/fuzzy_results_all.csv')\n",
    "local.to_csv('/home/p/wines/winerecommender/data-matching/fuzzymatch_results/local_wines_matched.csv')\n",
    "\n",
    "\n",
    "\n"
   ]
  }
 ],
 "metadata": {
  "interpreter": {
   "hash": "1fac22538c550b66a54000c2a952ff08543f66e1a3ae1f3c7728a21b2430cdf6"
  },
  "kernelspec": {
   "display_name": "Python 3 (ipykernel)",
   "language": "python",
   "name": "python3"
  },
  "language_info": {
   "codemirror_mode": {
    "name": "ipython",
    "version": 3
   },
   "file_extension": ".py",
   "mimetype": "text/x-python",
   "name": "python",
   "nbconvert_exporter": "python",
   "pygments_lexer": "ipython3",
   "version": "3.9.2"
  }
 },
 "nbformat": 4,
 "nbformat_minor": 4
}
