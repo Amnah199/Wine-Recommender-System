{
 "cells": [
  {
   "cell_type": "code",
   "execution_count": 2,
   "metadata": {},
   "outputs": [],
   "source": [
    "import numpy as np\n",
    "import json\n",
    "import pandas as pd\n",
    "import recordlinkage\n",
    "import re"
   ]
  },
  {
   "cell_type": "markdown",
   "metadata": {},
   "source": [
    "read data"
   ]
  },
  {
   "cell_type": "code",
   "execution_count": 33,
   "metadata": {},
   "outputs": [],
   "source": [
    "#with open('/home/p/wines/winerecommender/data-matching/vivino_data_combined.json') as f:\n",
    "#    vivino_data = json.load(f)\n",
    "vivino_full = pd.read_csv('/home/p/wines/winerecommender/data-matching/vivino_full.csv')\n",
    "di = pd.read_excel('/home/p/wines/winerecommender/Scraping/Data Sources - scraped/Direkt-Import.xlsx')\n",
    "dv = pd.read_excel('/home/p/wines/winerecommender/Scraping/Data Sources - scraped/Divino.xlsx')\n",
    "jacq = pd.read_csv('/home/p/wines/winerecommender/Scraping/jacques.de/jacques.csv', encoding='utf-8')\n",
    "\n",
    "#final = pd.read_csv('/home/p/wines/winerecommender/data-matching/matching_table.csv')\n"
   ]
  },
  {
   "cell_type": "markdown",
   "metadata": {},
   "source": [
    "format vivino data after extraction if necessary"
   ]
  },
  {
   "cell_type": "code",
   "execution_count": null,
   "metadata": {},
   "outputs": [],
   "source": [
    "# # filter vivino data by keys used for matching, transform to DataFrame and export as .csv\n",
    "# cols = ['wine_id','wine_name','wine_winery', 'wine_country', 'wine_region', 'wine_year', 'wine_type', 'wine_price', 'wine_alcohol']\n",
    "\n",
    "# vivDict_full = [{k: dic[k] for k in vivino_data[0].keys()} for dic in vivino_data]\n",
    "# vivino_df = pd.DataFrame.from_dict(vivDict_full)\n",
    "# vivino_df = vivino_df.set_index('wine_id')\n",
    "# vivino_df.to_csv('/home/p/wines/winerecommender/data-matching/vivino_full.csv')\n"
   ]
  },
  {
   "cell_type": "markdown",
   "metadata": {},
   "source": [
    "Define helper functions to format local wine data"
   ]
  },
  {
   "cell_type": "code",
   "execution_count": 32,
   "metadata": {},
   "outputs": [],
   "source": [
    "#used to match dataframes by relevant columns\n",
    "\n",
    "def updateWineType(t):\n",
    "    switch = {\n",
    "        'Rotwein': 'red',\n",
    "        'Weißwein': 'white',\n",
    "        'Weisswein': 'white',\n",
    "        'Roséwein': 'rosé',\n",
    "        'red': 'red',\n",
    "        'white': 'white',\n",
    "        'rosé': 'rosé'\n",
    "    }\n",
    "\n",
    "    try: \n",
    "        return switch.get(t.replace(',','').strip().split(' ')[0], 'sparkling')\n",
    "    except:\n",
    "        return \n",
    "\n",
    "\n",
    "#formats price strings to xx.xx instead of eg. xx,xx$ or $xx.xx. likely unneccessarily complicated but works for now\n",
    "def formatPrice(x):\n",
    "    x = str(x).strip()\n",
    "    if re.match('/^\\d+,\\d+/', x):\n",
    "        return float(x.replace('.','').replace(',', '.'))\n",
    "    else:\n",
    "        if re.match('/^\\d+.\\d+$/', x):\n",
    "            return float(x)\n",
    "        else:\n",
    "            if re.match('^\\s*$', x):\n",
    "                return float(0)\n",
    "            else:\n",
    "                return float(x.replace('.','').replace(',', '.').replace('€', '').strip())\n",
    "\n",
    "#removes years from the name, keeps the producer though\n",
    "def removeYear(x):\n",
    "    sub = re.sub('\\d{4}', '', x)\n",
    "    return sub.strip()\n",
    "\n",
    "#formats alcohol percentage\n",
    "\n",
    "def formatAlcohol(x):\n",
    "    #if multiple percentages were scraped, just take the first one\n",
    "    x = str(x).split(', ')[0]\n",
    "    x = float(x.replace('%', '').replace(',','.').strip())\n",
    "    return x\n",
    "\n",
    "#takes year from name string of DirektImport wines\n",
    "\n",
    "def getYears(names):\n",
    "    out = []\n",
    "    for x in names:\n",
    "        x= str(x)\n",
    "        m = re.search('\\d{4}', x)\n",
    "        if m:\n",
    "            out.append(m.group(0))\n",
    "        else:\n",
    "            out.append(None)\n",
    "    return out\n",
    "\n",
    "#split the string by triple whitespace, then split first element by comma. return first element of that as winery, second element of first split as wine. Works for Direktimport due to consistent naming\n",
    "\n",
    "def splitWinery(names):\n",
    "    wineries = []\n",
    "    wines = [] \n",
    "\n",
    "    for x in names:\n",
    "        w = str(x).strip().split('   ')\n",
    "        wineries.append(w[0].strip().split(',')[0])\n",
    "        wines.append(w[1].strip())\n",
    "    return wineries, wines\n",
    "#get quality indicators from table\n",
    "def getQualityIndicators(array):\n",
    "    seen = set()\n",
    "    quals_set = []\n",
    "    for item in array:\n",
    "        quals = str(item).strip().split(',')\n",
    "        for qual in quals:\n",
    "            qual = qual.strip()\n",
    "            if qual not in seen:\n",
    "                seen.add(qual)\n",
    "                quals_set.append(qual)\n",
    "    return sorted(quals_set)\n",
    "\n",
    "\n",
    "#remove winery, strip spaces, remove quality sigs\n",
    "def formatName(x, quals):\n",
    "    x = removeYear(str(x))\n",
    "    for qual in quals:\n",
    "        if re.match(qual, x):\n",
    "            x = re.sub(qual, '', x)\n",
    "    re.sub('\\s+', ' ', x)\n",
    "    return x\n",
    "\n",
    "# replace values in df[col] with values in val if empty/None\n",
    "def replaceMissingYears(df, col, val):\n",
    "    indicies_of_missing = df[df[col].isnull()].index \n",
    "    for fill_index, dataframe_index in enumerate(indicies_of_missing):\n",
    "        df.loc[dataframe_index, col] = val[dataframe_index]\n",
    "    return df\n",
    "\n",
    "\n",
    "# removes bio certs from jacques wines\n",
    "\n",
    "def stripBio(x):\n",
    "    try:\n",
    "        x = re.sub('\\s–\\s[\\u00C0-\\u017Fa-zA-Z\\']{2}-[\\u00C0-\\u017Fa-zA-Z\\']{3}-\\d{2,3}', '' ,str(x)).strip()\n",
    "    except Exception as e:\n",
    "        print(e)\n",
    "    return x\n",
    "\n",
    "# removes bottle sizes\n",
    "def stripSize(x):\n",
    "    try:\n",
    "        x = re.sub('(Magnum(flasche)?\\s*)?\\(?\\d,\\d{1,3}\\s*(\\S+)\\)?', '' ,str(x)).strip()\n",
    "    except Exception as e:\n",
    "        print(e)\n",
    "    return x"
   ]
  },
  {
   "cell_type": "markdown",
   "metadata": {},
   "source": [
    "# Format Local Wine Data"
   ]
  },
  {
   "cell_type": "code",
   "execution_count": 36,
   "metadata": {},
   "outputs": [],
   "source": [
    "\n",
    "# ## DO NOT USE AGAIN, extracted regions and formatted alcohol from  early jacques scraper\n",
    "\n",
    "# def getRegionJacques(series):\n",
    "\n",
    "#     regions = []\n",
    "#     for item in series:\n",
    "#         temp = re.sub(' +', ' ',item.replace(\"\\xa0\", \"\").strip()).split('\\n\\n')\n",
    "#         try:\n",
    "#             regions.append(temp[0].split(', ')[1].strip())\n",
    "#         except:\n",
    "#             regions.append('')\n",
    "#     return regions\n",
    "\n",
    "\n",
    "jac2 = pd.DataFrame()\n",
    "\n",
    "#jac2 = pd.read_csv('/home/p/wines/winerecommender/Scraping/jacques.de/jacques.csv')\n",
    "jac2['wine_country'] = jacq['Herkunft']\n",
    "jac2['wine_year'] = getYears(jacq['Name'])\n",
    "jac2['wine_name'] = jacq['Name'].map(lambda x: removeYear(x))\n",
    "jac2['wine_name'] = jac2['wine_name'].map(lambda x: stripBio(x))\n",
    "jac2['wine_name'] = jac2['wine_name'].map(lambda x: stripSize(x))\n",
    "jac2['wine_seller'] = 3\n",
    "#jac2['wine_region'] = getRegionjacq(jacq['Name'])\n",
    "jac2['wine_alcohol'] = jacq['Alkoholgehalt'].map(lambda x: formatAlcohol(x))\n",
    "jac2['wine_price'] = jacq['Preis in euro'].map(lambda x: formatPrice(x))\n",
    "jac2['wine_type'] = jacq['Typ'].map(lambda x: updateWineType(x))\n",
    "jac2['wine_description'] = jacq['Beschreibung']\n",
    "jac2['wine_url'] = jacq['URL']\n",
    "\n",
    "jac2.to_csv('/home/p/wines/winerecommender/data-matching/jacques_formatted.csv')"
   ]
  },
  {
   "cell_type": "code",
   "execution_count": 26,
   "metadata": {},
   "outputs": [
    {
     "name": "stdout",
     "output_type": "stream",
     "text": [
      "Index(['Id', 'Name:', 'Hersteller:', 'Erzeugnis aus:', 'Region:', 'Wein:',\n",
      "       'Jahrgang:', 'Rebsorte:', 'Qualität:', 'Alkohol in %:', 'Geschmack:',\n",
      "       'Allergene:', 'Trinktemperatur in °C:', 'Trinkempfehlung:',\n",
      "       'Dekantieren:', 'Verschluß:', 'Säure g/l:', 'Restzucker g/l:', 'Boden:',\n",
      "       'Essen:', 'Ausbauart:', 'Auszeichnungen:', 'Paßt zu:', 'Lage:',\n",
      "       'Herstellung:', 'Produkt aus biologischem Anbau:', 'Biokontrollstelle:',\n",
      "       'Diverses:', 'Zutaten:', 'Preis:', 'Image:', 'Details-URL:',\n",
      "       'Verkostungsnotiz:', 'Seller'],\n",
      "      dtype='object')\n"
     ]
    }
   ],
   "source": [
    "print(di.columns)\n",
    "cols=['wine_name','wine_winery', 'wine_country', 'wine_region', 'wine_year', 'wine_type', 'wine_price', 'wine_alcohol', 'wine_description', 'wine_thumb', 'wine_url', 'wine_seller']\n",
    "di = pd.read_excel('/home/p/wines/winerecommender/Scraping/Data Sources - scraped/Direkt-Import.xlsx')\n",
    "matching_df = pd.DataFrame(columns=cols)\n",
    "di['Region:'] = di['Region:'].map(lambda x: str(x).strip().split(', ')[0])\n",
    "di['Wein:'] = di['Wein:'].map(lambda x: updateWineType(x))\n",
    "di['Alkohol in %:'] = di['Alkohol in %:'].map(lambda x: formatAlcohol(x))\n",
    "di['Preis:'] = di['Preis:'].map(lambda x: formatPrice(x))\n",
    "years_temp = getYears(di['Name:'])\n",
    "di['Name:'] = di['Name:'].map(lambda x: removeYear(x))\n",
    "di['Name:'] = di['Name:'].map(lambda x: stripSize(x))\n",
    "\n",
    "#not sure how to put this in a function\n",
    "di = replaceMissingYears(di, 'Jahrgang:', years_temp)\n",
    "\n",
    "# this is likely overkill and will produce weird results\n",
    "# quals = getQualityIndicators(di['Qualität:'])\n",
    "quals = []\n",
    "\n",
    "di['Hersteller:'], di['Name:'] = splitWinery(di['Name:'])\n",
    "di['Name:'] = di['Name:'].map(lambda x: formatName(x, quals))\n",
    "\n",
    "di_new = di[['Name:', 'Hersteller:', 'Erzeugnis aus:', 'Region:', 'Jahrgang:', 'Wein:', 'Preis:', 'Alkohol in %:', 'Verkostungsnotiz:', 'Image:', 'Details-URL:', 'Seller']]\n",
    "di_new.columns = cols\n",
    "\n",
    "#remove sets of wines offered by direktimport\n",
    "di_new = di_new[~di_new['wine_name'].str.contains('paket')]\n",
    "di_new = di_new[~di_new['wine_name'].str.contains('Paket')]\n",
    "\n",
    "di_new.to_csv('/home/p/wines/winerecommender/data-matching/direktimport_formatted.csv')\n",
    "   "
   ]
  },
  {
   "cell_type": "code",
   "execution_count": 22,
   "metadata": {},
   "outputs": [
    {
     "name": "stdout",
     "output_type": "stream",
     "text": [
      "Index(['Id', 'Name', 'Jahrgang', 'Rebsorte', 'Weingut', 'Produktbezeichnung',\n",
      "       'Ort', 'Passt gut zu', 'Herkunftsland', 'Anlass', 'Größe des Winzers',\n",
      "       'Winzer', 'Region', 'Herstellungsmethode', 'Art', 'Lagerfähigkeit',\n",
      "       'Charakteristik', 'Preis', 'Image', 'Details-URL', 'Beschreibung',\n",
      "       'Seller'],\n",
      "      dtype='object')\n"
     ]
    }
   ],
   "source": [
    "print(dv.columns)\n",
    "dv = pd.read_excel('/home/p/wines/winerecommender/Scraping/Data Sources - scraped/Divino.xlsx')\n",
    "\n",
    "#missing alcohol, reliable winery info\n",
    "\n",
    "cols=['wine_name','wine_country', 'wine_region', 'wine_year', 'wine_type', 'wine_price', 'wine_thumb', 'wine_description', 'wine_url', 'wine_seller']\n",
    "\n",
    "years_temp = getYears(dv['Name'])\n",
    "dv = replaceMissingYears(dv, 'Jahrgang', years_temp)\n",
    "dv['Art'] = dv['Art'].map(lambda x: updateWineType(x))\n",
    "dv['Preis'] = dv['Preis'].map(lambda x: formatPrice(x))\n",
    "dv['Name'] = dv['Name'].map(lambda x: removeYear(x))\n",
    "dv['Name'] = dv['Name'].map(lambda x: stripSize(x))\n",
    "dv_new = dv[['Name', 'Herkunftsland', 'Region', 'Jahrgang', 'Art', 'Preis', 'Image', 'Beschreibung', 'Details-URL', 'Seller']]\n",
    "dv_new.columns = cols\n",
    "\n",
    "#house brand again\n",
    "dv_new = dv_new[~dv_new['wine_name'].str.contains('divino.de')]\n",
    "\n",
    "dv_new.to_csv('/home/p/wines/winerecommender/data-matching/divino_formatted.csv')\n",
    "\n"
   ]
  },
  {
   "cell_type": "markdown",
   "metadata": {},
   "source": [
    "combine local wines to singular DF/table for DB dump"
   ]
  },
  {
   "cell_type": "code",
   "execution_count": 40,
   "metadata": {},
   "outputs": [
    {
     "name": "stdout",
     "output_type": "stream",
     "text": [
      "(1338, 11)\n"
     ]
    }
   ],
   "source": [
    "local_cols = ['wine_name','wine_country', 'wine_region', 'wine_year', 'wine_type', 'wine_price', 'wine_url', 'wine_description', 'wine_seller']\n",
    "\n",
    "direktimport = pd.read_csv('/home/p/wines/winerecommender/data-matching/direktimport_formatted.csv', encoding='utf-8')\n",
    "divino = pd.read_csv('/home/p/wines/winerecommender/data-matching/divino_formatted.csv', encoding='utf-8')\n",
    "jacques = pd.read_csv('/home/p/wines/winerecommender/data-matching/jacques_formatted.csv', encoding='utf-8')\n",
    "\n",
    "direktimport[\"wine_name\"] = direktimport[\"wine_winery\"] + ' ' + direktimport[\"wine_name\"]\n",
    "jacques[\"wine_region\"] = None\n",
    "divino = divino[local_cols]\n",
    "direktimport = direktimport[local_cols]\n",
    "jacques = jacques[local_cols]\n",
    "\n",
    "local_df = pd.DataFrame(local_cols)\n",
    "local_df = local_df.append(direktimport)\n",
    "local_df = local_df.append(divino)\n",
    "local_df = local_df.append(jacques)\n",
    "local_df[\"taste_id\"] = None\n",
    "print(local_df.shape)\n",
    "\n",
    "local_df.to_csv('/home/p/wines/winerecommender/data-matching/local_wines_formatted.csv')\n"
   ]
  },
  {
   "cell_type": "code",
   "execution_count": null,
   "metadata": {},
   "outputs": [],
   "source": [
    "#exploration for wine region matching between vivino and local data\n",
    "\n",
    "def getRegionSet(array):\n",
    "    seen = set()\n",
    "    regions = []\n",
    "    for region in array:\n",
    "        region = str(region).strip().split(', ')[0]\n",
    "        if region not in seen:\n",
    "            seen.add(region)\n",
    "            regions.append(region)\n",
    "    return sorted(regions)\n",
    "\n",
    "regions = getRegionSet(final['wine_region'])\n",
    "\n",
    "vivreg = getRegionSet([wine['wine_region'] for wine in vivino_data])\n",
    "\n",
    "print('Matching: ',[region for region in regions if region in vivreg])\n",
    "print('Missing: ',[region for region in regions if region not in vivreg])"
   ]
  },
  {
   "cell_type": "markdown",
   "metadata": {},
   "source": [
    "# match local data\n",
    "We scraped data from Vivino in multiple iterations due to the present complexity, aiming to achieve sufficient coverage for local wines.\n",
    "These cells were used for the first iteration, in order to determine the amount of required re-scraping to be done based on each vendor's present inventory.\n",
    "Where possible, we matched winery and wine name seperately to increase accuracy, though this was only an option for Wein-Direktimport as both Jacques' and Divino's scraping data proved nigh impossible to work with in this regard. \n",
    "For these cases, the strings were combined to a full wine name.\n",
    "Additionally, some manual data cleaning was performed on the smaller Divino & Jacques sets to eliminate size denotations (e.g. Magnum, 0,5 L, 1 Liter). It would have been possible to automate this using RegEx, but the amount of effort required for all edge cases is not in proportion to the requirements of this project."
   ]
  },
  {
   "cell_type": "code",
   "execution_count": 24,
   "metadata": {},
   "outputs": [],
   "source": [
    "import numpy as np\n",
    "import json\n",
    "import pandas as pd\n",
    "import recordlinkage\n",
    "import re\n",
    "import datasketch\n",
    "import fuzzymatcher\n",
    "\n",
    "vivino = pd.read_csv('/home/p/wines/winerecommender/data-matching/vivino_full.csv', encoding='utf-8')\n",
    "\n",
    "direktimport = pd.read_csv('/home/p/wines/winerecommender/data-matching/direktimport_formatted.csv', encoding='utf-8')\n",
    "divino = pd.read_csv('/home/p/wines/winerecommender/data-matching/divino_formatted.csv', encoding='utf-8')\n",
    "jacques = pd.read_csv('/home/p/wines/winerecommender/data-matching/jacques_wines.csv', encoding='utf-8')"
   ]
  },
  {
   "cell_type": "markdown",
   "metadata": {},
   "source": [
    "match vivino and direktimport"
   ]
  },
  {
   "cell_type": "code",
   "execution_count": 12,
   "metadata": {},
   "outputs": [],
   "source": [
    "ons = ['wine_name', 'wine_winery', 'wine_country', 'wine_region', 'wine_type']\n",
    "vivinof_di = vivino[ons]\n",
    "direktimportf = direktimport[ons]\n",
    "\n",
    "resf_di = fuzzymatcher.fuzzy_left_join(direktimportf, vivinof_di, ons, ons)\n",
    "resf_di.sort_values('best_match_score', ascending = False, inplace=True)\n",
    "resf_di.to_csv('/home/p/wines/winerecommender/data-matching/fuzzymatch_results/fuzzy_results_di.csv')"
   ]
  },
  {
   "cell_type": "markdown",
   "metadata": {},
   "source": [
    "this resulted in about 170 usable matches, the rest needed to be rescraped. "
   ]
  },
  {
   "cell_type": "code",
   "execution_count": 13,
   "metadata": {},
   "outputs": [],
   "source": [
    "X = 170\n",
    "resf_di['search'] = resf_di['wine_winery_left'] +' '+ resf_di['wine_name_left']\n",
    "resf_di['index'] = list(range(len(resf_di['search'])))\n",
    "resf_di.set_index('index', inplace=True)\n",
    "strings = list(resf_di['search'][X:])\n",
    "ids = list(resf_di['__id_left'].map(lambda x: x.split('_')[0])[X:])\n",
    "i=0\n",
    "out = []\n",
    "for string in strings:\n",
    "    out.append({\n",
    "        \"local_id\": ids[i],\n",
    "        \"search_string\": string\n",
    "    })\n",
    "    i+=1\n",
    "\n",
    "with open(\"/home/p/wines/winerecommender/data-matching/rescrape/search_di.json\", \"w\") as f:\n",
    "    f.write(json.dumps(out))"
   ]
  },
  {
   "cell_type": "markdown",
   "metadata": {},
   "source": [
    "match vivino and divino"
   ]
  },
  {
   "cell_type": "code",
   "execution_count": 15,
   "metadata": {},
   "outputs": [],
   "source": [
    "vivino[\"full_name\"] = vivino[\"wine_winery\"] + ' ' + vivino[\"wine_name\"]\n",
    "ons = ['full_name', 'wine_country', 'wine_region', 'wine_type']\n",
    "vivinof_dv = vivino[ons]\n",
    "divino[\"full_name\"] = divino[\"wine_name\"]\n",
    "divinof = divino[ons]\n",
    "resf_dv = fuzzymatcher.fuzzy_left_join(divinof, vivinof_dv, ons, ons)\n",
    "resf_dv.sort_values('best_match_score', ascending = False, inplace=True)\n",
    "resf_dv.to_csv('/home/p/wines/winerecommender/data-matching/fuzzymatch_results/fuzzy_results_dv.csv')\n"
   ]
  },
  {
   "cell_type": "markdown",
   "metadata": {},
   "source": [
    "this resulted in approx. 9 usable matches, with the rest needing rescraping"
   ]
  },
  {
   "cell_type": "code",
   "execution_count": 18,
   "metadata": {},
   "outputs": [],
   "source": [
    "x = 9\n",
    "resf_dv['search'] = resf_dv['full_name_left']\n",
    "resf_dv['index'] = list(range(len(resf_dv['search'])))\n",
    "resf_dv.set_index('index', inplace=True)\n",
    "strings = list(resf_dv['search'][x:])\n",
    "ids = list(resf_dv['__id_left'].map(lambda x: x.split('_')[0])[x:])\n",
    "i=0\n",
    "out = []\n",
    "for string in strings:\n",
    "    out.append({\n",
    "        \"local_id\": ids[i],\n",
    "        \"search_string\": string\n",
    "    })\n",
    "    i+=1\n",
    "\n",
    "with open(\"/home/p/wines/winerecommender/data-matching/rescrape/search_dv.json\", \"w\") as f:\n",
    "    f.write(json.dumps(out))"
   ]
  },
  {
   "cell_type": "markdown",
   "metadata": {},
   "source": [
    "match jacques and vivino"
   ]
  },
  {
   "cell_type": "code",
   "execution_count": 25,
   "metadata": {},
   "outputs": [],
   "source": [
    "vivino[\"full_name\"] = vivino[\"wine_winery\"] + ' ' + vivino[\"wine_name\"]\n",
    "ons = ['full_name', 'wine_country', 'wine_type']\n",
    "jacques[\"full_name\"] = jacques[\"wine_name\"]\n",
    "vivinof_j = vivino[ons]\n",
    "jacquef = jacques[ons]\n",
    "resf_j = fuzzymatcher.fuzzy_left_join(jacquef, vivinof_j, ons, ons)\n",
    "resf_j.sort_values('best_match_score', ascending = False, inplace=True)\n",
    "resf_j.to_csv('/home/p/wines/winerecommender/data-matching/fuzzymatch_results/fuzzy_results_j.csv')\n"
   ]
  },
  {
   "cell_type": "markdown",
   "metadata": {},
   "source": [
    "this resulted in 25 usable matches, with the rest needing rescraping"
   ]
  },
  {
   "cell_type": "code",
   "execution_count": 26,
   "metadata": {},
   "outputs": [],
   "source": [
    "x = 25\n",
    "resf_j['search'] = resf_j['full_name_left']\n",
    "resf_j['index'] = list(range(len(resf_j['search'])))\n",
    "resf_j.set_index('index', inplace=True)\n",
    "strings = list(resf_j['search'][x:])\n",
    "ids = list(resf_j['__id_left'].map(lambda x: x.split('_')[0])[x:])\n",
    "i=0\n",
    "out = []\n",
    "for string in strings:\n",
    "    out.append({\n",
    "        \"local_id\": ids[i],\n",
    "        \"search_string\": string\n",
    "    })\n",
    "    i+=1\n",
    "\n",
    "with open(\"/home/p/wines/winerecommender/data-matching/rescrape/search_j.json\", \"w\") as f:\n",
    "    f.write(json.dumps(out))"
   ]
  }
 ],
 "metadata": {
  "interpreter": {
   "hash": "1fac22538c550b66a54000c2a952ff08543f66e1a3ae1f3c7728a21b2430cdf6"
  },
  "kernelspec": {
   "display_name": "Python 3 (ipykernel)",
   "language": "python",
   "name": "python3"
  },
  "language_info": {
   "codemirror_mode": {
    "name": "ipython",
    "version": 3
   },
   "file_extension": ".py",
   "mimetype": "text/x-python",
   "name": "python",
   "nbconvert_exporter": "python",
   "pygments_lexer": "ipython3",
   "version": "3.9.2"
  }
 },
 "nbformat": 4,
 "nbformat_minor": 4
}
