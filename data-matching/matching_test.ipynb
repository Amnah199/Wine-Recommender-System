{
 "cells": [
  {
   "cell_type": "code",
   "execution_count": 45,
   "metadata": {},
   "outputs": [],
   "source": [
    "import numpy as np\n",
    "import json\n",
    "import pandas as pd\n",
    "import recordlinkage\n",
    "import re"
   ]
  },
  {
   "cell_type": "code",
   "execution_count": 160,
   "metadata": {},
   "outputs": [],
   "source": [
    "with open('/home/p/wines/winerecommender/Script - Data Extraction/wine_data.json') as f:\n",
    "    vivino_data = json.load(f)\n",
    "\n",
    "\n",
    "df = pd.read_excel('/home/p/wines/winerecommender/Scraping/Data Sources - scraped/Wines-FinalDS.xlsx')\n",
    "\n",
    "jacques = pd.read_csv('/home/p/wines/winerecommender/Scraping/jacques.de/jacques_wines.csv', encoding='utf-8')\n"
   ]
  },
  {
   "cell_type": "code",
   "execution_count": 145,
   "metadata": {},
   "outputs": [],
   "source": [
    "\n",
    "## DO NOT USE, extracted regions and formatted alcohol\n",
    "\n",
    "def getInfoJacques(series):\n",
    "\n",
    "    regions = []\n",
    "    for item in series:\n",
    "        temp = re.sub(' +', ' ',item.replace(\"\\xa0\", \"\").strip()).split('\\n\\n')\n",
    "        try:\n",
    "            region.append(temp[0].split(', ')[1].strip())\n",
    "        except:\n",
    "            region.append('')\n",
    "    return region\n",
    "\n",
    "# jacques[\"Region\"]=getInfoJacques(jacques.Name)\n",
    "\n",
    "# print(jacques[\"Region\"])\n",
    "\n",
    "\n",
    "# jac2 = pd.read_csv('/home/p/wines/winerecommender/Scraping/jacques.de/jacques_wines.csv')\n",
    "\n",
    "# jac2['wine_region'] = jacques['Region']\n",
    "# jac2['wine_alcohol'] = jac2['wine_alcohol'].map(lambda x: x.replace('%',''))\n",
    "\n",
    "#jacques.to_csv('/home/p/wines/winerecommender/Scraping/jacques.de/jacques_wines.csv')\n",
    "\n",
    "\n",
    "    "
   ]
  },
  {
   "cell_type": "code",
   "execution_count": 151,
   "metadata": {},
   "outputs": [],
   "source": [
    "df.columns, jacques.columns\n",
    "\n",
    "cols=['wine_name', 'wine_country', 'wine_region', 'wine_year', 'wine_type', 'wine_price', 'wine_alcohol', 'wine_seller']\n",
    "\n",
    "matching_df = pd.DataFrame(columns=cols)\n",
    "\n",
    "matching_df['wine_name'] = df['Name:'] + jacques['wine_name']\n",
    "\n"
   ]
  },
  {
   "cell_type": "code",
   "execution_count": 142,
   "metadata": {},
   "outputs": [
    {
     "name": "stdout",
     "output_type": "stream",
     "text": [
      "     wine_id                          wine_name  wine_year wine_type  \\\n",
      "0          1                     LE TAPIE Rouge       2003       red   \n",
      "1          2                          GUY BOYER       2014       red   \n",
      "2          3                LA CLOUTADE D'AMBRE       2011       red   \n",
      "3          4              CHÂTEAU PECH-CÉLEYRAN       2017       red   \n",
      "4          5      PAUL MAS Cabernet de Cabernet       2019       red   \n",
      "..       ...                                ...        ...       ...   \n",
      "268      269   ERZHERZOG JOHANN Sauvignon Blanc       2018     white   \n",
      "269      270              ZIMMERMANN Rosshimmel       2011     white   \n",
      "270      271  GÖTTWEIG Grüner Veltliner Reserve       2008     white   \n",
      "271      272                 SCHMELZ Federspiel       2006     white   \n",
      "272      273                        PFAFFL Hund       2004     white   \n",
      "\n",
      "     wine_price                                       Beschreibung  \\\n",
      "0          4.70  Tannat trifft Merlot... Kraft trifft Eleganz.....   \n",
      "1          4.70  Die Ardèche – zwischen Lyon und Montpellier ge...   \n",
      "2          5.50  Die Appellation Corbières ist geradezu ein Syn...   \n",
      "3          5.85  Fällt der Name La Clape, geht Languedoc-Fans d...   \n",
      "4          5.95  Bei einer Cuvée aus Cabernet Sauvignon und Cab...   \n",
      "..          ...                                                ...   \n",
      "268       11.80  Ein wunderbar sortentypischer Sauvignon Blanc ...   \n",
      "269       13.50  Dieser facettenreiche Veltliner zeigt sehr unt...   \n",
      "270       14.90  Der Grüne Veltliner ist nicht nur der ganze St...   \n",
      "271       14.95  Fragt man die Familie Schmelz nach ihrer Philo...   \n",
      "272       15.50  Das Weingut Pfaffl gehört zu jenen österreichi...   \n",
      "\n",
      "     wine_alcohol               wine_tastes wine_country       wine_region  \\\n",
      "0           13.52             jung&fruchtig   Frankreich          Rhônetal   \n",
      "1           14.35             jung&fruchtig   Frankreich         Languedoc   \n",
      "2           14.11             jung&fruchtig   Frankreich         Languedoc   \n",
      "3           14.59  mittelkräftig&ausgewogen   Frankreich         Languedoc   \n",
      "4           13.56  mittelkräftig&ausgewogen   Frankreich         Languedoc   \n",
      "..            ...                       ...          ...               ...   \n",
      "268         11.72   aromatisch&fruchtbetont   Österreich  Niederösterreich   \n",
      "269         13.91    körperreich&vollmundig   Österreich  Niederösterreich   \n",
      "270         12.70    körperreich&vollmundig   Österreich        Steiermark   \n",
      "271         12.42    körperreich&vollmundig   Österreich  Niederösterreich   \n",
      "272         14.53    körperreich&vollmundig   Österreich  Niederösterreich   \n",
      "\n",
      "     wine_seller  \n",
      "0              3  \n",
      "1              3  \n",
      "2              3  \n",
      "3              3  \n",
      "4              3  \n",
      "..           ...  \n",
      "268            3  \n",
      "269            3  \n",
      "270            3  \n",
      "271            3  \n",
      "272            3  \n",
      "\n",
      "[273 rows x 11 columns]\n"
     ]
    }
   ],
   "source": [
    "jacques[\"wine_seller\"] = 3\n",
    "print(jacques)"
   ]
  },
  {
   "cell_type": "code",
   "execution_count": 170,
   "metadata": {},
   "outputs": [
    {
     "name": "stdout",
     "output_type": "stream",
     "text": [
      "0      sparkling\n",
      "1      sparkling\n",
      "2      sparkling\n",
      "3      sparkling\n",
      "4      sparkling\n",
      "         ...    \n",
      "952    sparkling\n",
      "953    sparkling\n",
      "954    sparkling\n",
      "955    sparkling\n",
      "956    sparkling\n",
      "Name: Wein:, Length: 957, dtype: object\n"
     ]
    }
   ],
   "source": [
    "def updateWineType(t):\n",
    "    switch = {\n",
    "        'Rotwein': 'red',\n",
    "        'Weißwein': 'white',\n",
    "        'Weisswein': 'white',\n",
    "        'Roséwein': 'rosé',\n",
    "        'red': 'red',\n",
    "        'white': 'white',\n",
    "        'rosé': 'rosé'\n",
    "    }\n",
    "\n",
    "    try: \n",
    "        return switch.get(t.replace(',','').strip().split(' ')[0], 'sparkling')\n",
    "    except:\n",
    "        return \n",
    "    \n",
    "\n",
    "\n",
    "tdf = df\n",
    "tdf['Wein:'] = tdf['Wein:'].map(lambda t: updateWineType(t))\n",
    "\n",
    "print(tdf['Wein:'])"
   ]
  },
  {
   "cell_type": "code",
   "execution_count": 168,
   "metadata": {},
   "outputs": [
    {
     "name": "stdout",
     "output_type": "stream",
     "text": [
      " Rotwein \n",
      "Rotwein\n"
     ]
    },
    {
     "data": {
      "text/plain": [
       "'red'"
      ]
     },
     "execution_count": 168,
     "metadata": {},
     "output_type": "execute_result"
    }
   ],
   "source": [
    "print(df['Wein:'][0])\n",
    "updateWineType(df['Wein:'][0])"
   ]
  }
 ],
 "metadata": {
  "interpreter": {
   "hash": "1fac22538c550b66a54000c2a952ff08543f66e1a3ae1f3c7728a21b2430cdf6"
  },
  "kernelspec": {
   "display_name": "Python 3.9.2 64-bit ('wines': venv)",
   "language": "python",
   "name": "python3"
  },
  "language_info": {
   "codemirror_mode": {
    "name": "ipython",
    "version": 3
   },
   "file_extension": ".py",
   "mimetype": "text/x-python",
   "name": "python",
   "nbconvert_exporter": "python",
   "pygments_lexer": "ipython3",
   "version": "3.9.2"
  },
  "orig_nbformat": 4
 },
 "nbformat": 4,
 "nbformat_minor": 2
}
