{
 "cells": [
  {
   "cell_type": "code",
   "execution_count": 2,
   "metadata": {},
   "outputs": [],
   "source": [
    "import numpy as np\n",
    "import json\n",
    "import pandas as pd\n",
    "import recordlinkage\n",
    "import re"
   ]
  },
  {
   "cell_type": "markdown",
   "metadata": {},
   "source": [
    "# read data"
   ]
  },
  {
   "cell_type": "code",
   "execution_count": 65,
   "metadata": {},
   "outputs": [],
   "source": [
    "#with open('/home/p/wines/winerecommender/data-matching/vivino_data_combined.json') as f:\n",
    "#    vivino_data = json.load(f)\n",
    "vivino_full = pd.read_csv('/home/p/wines/winerecommender/data-matching/vivino_full.csv')\n",
    "di = pd.read_excel('/home/p/wines/winerecommender/Scraping/Data Sources - scraped/Direkt-Import.xlsx')\n",
    "dv = pd.read_excel('/home/p/wines/winerecommender/Scraping/Data Sources - scraped/Divino.xlsx')\n",
    "jacques = pd.read_csv('/home/p/wines/winerecommender/Scraping/jacques.de/jacques_wines.csv', encoding='utf-8')\n",
    "\n",
    "#final = pd.read_csv('/home/p/wines/winerecommender/data-matching/matching_table.csv')\n"
   ]
  },
  {
   "cell_type": "markdown",
   "metadata": {},
   "source": [
    "# format vivino data after extraction if necessary"
   ]
  },
  {
   "cell_type": "code",
   "execution_count": null,
   "metadata": {},
   "outputs": [],
   "source": [
    "# # filter vivino data by keys used for matching, transform to DataFrame and export as .csv\n",
    "# cols = ['wine_id','wine_name','wine_winery', 'wine_country', 'wine_region', 'wine_year', 'wine_type', 'wine_price', 'wine_alcohol']\n",
    "\n",
    "# vivDict_full = [{k: dic[k] for k in vivino_data[0].keys()} for dic in vivino_data]\n",
    "# vivino_df = pd.DataFrame.from_dict(vivDict_full)\n",
    "# vivino_df = vivino_df.set_index('wine_id')\n",
    "# vivino_df.to_csv('/home/p/wines/winerecommender/data-matching/vivino_full.csv')\n",
    "\n",
    "# vivino_sub = vivino_df[cols]\n",
    "# vivino_sub = vivino_sub.set_index('wine_id')\n",
    "# vivino_sub.to_csv('/home/p/wines/winerecommender/data-matching/matching_vivino.csv')"
   ]
  },
  {
   "cell_type": "markdown",
   "metadata": {},
   "source": [
    "# Define helper functions to format local wine data"
   ]
  },
  {
   "cell_type": "code",
   "execution_count": 124,
   "metadata": {},
   "outputs": [],
   "source": [
    "#used to match dataframes by relevant columns\n",
    "\n",
    "def updateWineType(t):\n",
    "    switch = {\n",
    "        'Rotwein': 'red',\n",
    "        'Weißwein': 'white',\n",
    "        'Weisswein': 'white',\n",
    "        'Roséwein': 'rosé',\n",
    "        'red': 'red',\n",
    "        'white': 'white',\n",
    "        'rosé': 'rosé'\n",
    "    }\n",
    "\n",
    "    try: \n",
    "        return switch.get(t.replace(',','').strip().split(' ')[0], 'sparkling')\n",
    "    except:\n",
    "        return \n",
    "\n",
    "\n",
    "#formats price strings to xx.xx instead of eg. xx,xx$ or $xx.xx. likely unneccessarily complicated but works for now\n",
    "def formatPrice(x):\n",
    "    x = str(x).strip()\n",
    "    if re.match('/^\\d+,\\d+/', x):\n",
    "        return float(x.replace('.','').replace(',', '.'))\n",
    "    else:\n",
    "        if re.match('/^\\d+.\\d+$/', x):\n",
    "            return float(x)\n",
    "        else:\n",
    "            if re.match('^\\s*$', x):\n",
    "                return float(0)\n",
    "            else:\n",
    "                return float(x.replace('.','').replace(',', '.').replace('€', '').strip())\n",
    "\n",
    "#removes years from the name, keeps the producer though\n",
    "def removeYear(x):\n",
    "    sub = re.sub('\\d{4}', '', x)\n",
    "    return sub.strip()\n",
    "\n",
    "#formats alcohol percentage\n",
    "\n",
    "def formatAlcohol(x):\n",
    "    #if multiple percentages were scraped, just take the first one\n",
    "    x = str(x).split(', ')[0]\n",
    "    x = float(x.replace('%', '').replace(',','.').strip())\n",
    "    return x\n",
    "\n",
    "#takes year from name string of DirektImport wines\n",
    "\n",
    "def extractYear(names):\n",
    "    out = []\n",
    "    for x in names:\n",
    "        x= str(x)\n",
    "        m = re.search('\\d{4}', x)\n",
    "        if m:\n",
    "            out.append(m.group(0))\n",
    "        else:\n",
    "            out.append(None)\n",
    "    return out\n",
    "\n",
    "#split the string by triple whitespace, then split first element by comma. return first element of that as winery, second element of first split as wine. Works for Direktimport due to consistent naming\n",
    "\n",
    "def splitWinery(names):\n",
    "    wineries = []\n",
    "    wines = [] \n",
    "\n",
    "    for x in names:\n",
    "        w = str(x).strip().split('   ')\n",
    "        wineries.append(w[0].strip().split(',')[0])\n",
    "        wines.append(w[1].strip())\n",
    "    return wineries, wines\n",
    "#get quality indicators from table\n",
    "def getQualityIndicators(array):\n",
    "    seen = set()\n",
    "    quals_set = []\n",
    "    for item in array:\n",
    "        quals = str(item).strip().split(',')\n",
    "        for qual in quals:\n",
    "            qual = qual.strip()\n",
    "            if qual not in seen:\n",
    "                seen.add(qual)\n",
    "                quals_set.append(qual)\n",
    "    return sorted(quals_set)\n",
    "\n",
    "\n",
    "#remove winery, strip spaces, remove quality sigs\n",
    "def formatName(x, quals):\n",
    "    x = removeYear(str(x))\n",
    "    for qual in quals:\n",
    "        if re.match(qual, x):\n",
    "            x = re.sub(qual, '', x)\n",
    "    re.sub('\\s+', ' ', x)\n",
    "    return x\n",
    "\n",
    "# replace values in df[col] with values in val if empty/None\n",
    "def replaceMissingYears(df, col, val):\n",
    "    indicies_of_missing = df[df[col].isnull()].index \n",
    "    for fill_index, dataframe_index in enumerate(indicies_of_missing):\n",
    "        df.loc[dataframe_index, col] = val[dataframe_index]\n",
    "    return df"
   ]
  },
  {
   "cell_type": "markdown",
   "metadata": {},
   "source": [
    "# Format Local Wine Data"
   ]
  },
  {
   "cell_type": "code",
   "execution_count": null,
   "metadata": {},
   "outputs": [],
   "source": [
    "\n",
    "# ## DO NOT USE AGAIN, extracted regions and formatted alcohol from jacques scraper\n",
    "\n",
    "# def getInfoJacques(series):\n",
    "\n",
    "#     regions = []\n",
    "#     for item in series:\n",
    "#         temp = re.sub(' +', ' ',item.replace(\"\\xa0\", \"\").strip()).split('\\n\\n')\n",
    "#         try:\n",
    "#             region.append(temp[0].split(', ')[1].strip())\n",
    "#         except:\n",
    "#             region.append('')\n",
    "#     return region\n",
    "\n",
    "# # jacques[\"Region\"]=getInfoJacques(jacques.Name)\n",
    "\n",
    "# # print(jacques[\"Region\"])\n",
    "\n",
    "\n",
    "# # jac2 = pd.read_csv('/home/p/wines/winerecommender/Scraping/jacques.de/jacques_wines.csv')\n",
    "\n",
    "# # jac2['wine_region'] = jacques['Region']\n",
    "# # jac2['wine_alcohol'] = jac2['wine_alcohol'].map(lambda x: x.replace('%',''))\n",
    "\n",
    "# #jacques.to_csv('/home/p/wines/winerecommender/Scraping/jacques.de/jacques_wines.csv')"
   ]
  },
  {
   "cell_type": "code",
   "execution_count": 132,
   "metadata": {},
   "outputs": [
    {
     "name": "stdout",
     "output_type": "stream",
     "text": [
      "Index(['Id', 'Name:', 'Hersteller:', 'Erzeugnis aus:', 'Region:', 'Wein:',\n",
      "       'Jahrgang:', 'Rebsorte:', 'Qualität:', 'Alkohol in %:', 'Geschmack:',\n",
      "       'Allergene:', 'Trinktemperatur in °C:', 'Trinkempfehlung:',\n",
      "       'Dekantieren:', 'Verschluß:', 'Säure g/l:', 'Restzucker g/l:', 'Boden:',\n",
      "       'Essen:', 'Ausbauart:', 'Auszeichnungen:', 'Paßt zu:', 'Lage:',\n",
      "       'Herstellung:', 'Produkt aus biologischem Anbau:', 'Biokontrollstelle:',\n",
      "       'Diverses:', 'Zutaten:', 'Preis:', 'Image:', 'Details-URL:',\n",
      "       'Verkostungsnotiz:', 'Seller'],\n",
      "      dtype='object')\n"
     ]
    }
   ],
   "source": [
    "print(di.columns)\n",
    "cols=['wine_name','wine_winery', 'wine_country', 'wine_region', 'wine_year', 'wine_type', 'wine_price', 'wine_alcohol', 'wine_thumb', 'wine_url', 'wine_seller']\n",
    "di = pd.read_excel('/home/p/wines/winerecommender/Scraping/Data Sources - scraped/Direkt-Import.xlsx')\n",
    "matching_df = pd.DataFrame(columns=cols)\n",
    "di['Region:'] = di['Region:'].map(lambda x: str(x).strip().split(', ')[0])\n",
    "di['Wein:'] = di['Wein:'].map(lambda x: updateWineType(x))\n",
    "di['Alkohol in %:'] = di['Alkohol in %:'].map(lambda x: formatAlcohol(x))\n",
    "di['Preis:'] = di['Preis:'].map(lambda x: formatPrice(x))\n",
    "years_temp = extractYear(di['Name:'])\n",
    "di['Name:'] = di['Name:'].map(lambda x: removeYear(x))\n",
    "\n",
    "#not sure how to put this in a function\n",
    "di = replaceMissingYears(di, 'Jahrgang:', years_temp)\n",
    "\n",
    "# this is likely overkill and will produce weird results\n",
    "# quals = getQualityIndicators(di['Qualität:'])\n",
    "quals = []\n",
    "\n",
    "di['Hersteller:'], di['Name:'] = splitWinery(di['Name:'])\n",
    "di['Name:'] = di['Name:'].map(lambda x: formatName(x, quals))\n",
    "\n",
    "di_new = di[['Name:', 'Hersteller:', 'Erzeugnis aus:', 'Region:', 'Jahrgang:', 'Wein:', 'Preis:', 'Alkohol in %:', 'Image:', 'Details-URL:', 'Seller']]\n",
    "di_new.columns = cols\n",
    "\n",
    "#remove sets of wines offered by direktimport\n",
    "di_new = di_new[~di_new['wine_name'].str.contains('paket')]\n",
    "di_new = di_new[~di_new['wine_name'].str.contains('Paket')]\n",
    "\n",
    "di_new.to_csv('/home/p/wines/winerecommender/data-matching/direktimport_formatted.csv')\n",
    "   "
   ]
  },
  {
   "cell_type": "code",
   "execution_count": 115,
   "metadata": {},
   "outputs": [
    {
     "name": "stdout",
     "output_type": "stream",
     "text": [
      "Index(['Id', 'Name', 'Jahrgang', 'Rebsorte', 'Weingut', 'Produktbezeichnung',\n",
      "       'Ort', 'Passt gut zu', 'Herkunftsland', 'Anlass', 'Größe des Winzers',\n",
      "       'Winzer', 'Region', 'Herstellungsmethode', 'Art', 'Lagerfähigkeit',\n",
      "       'Charakteristik', 'Preis', 'Image', 'Details-URL', 'Beschreibung',\n",
      "       'Seller'],\n",
      "      dtype='object')\n"
     ]
    }
   ],
   "source": [
    "print(dv.columns)\n",
    "dv = pd.read_excel('/home/p/wines/winerecommender/Scraping/Data Sources - scraped/Divino.xlsx')\n",
    "\n",
    "#missing alcohol, reliable winery info\n",
    "\n",
    "cols=['wine_name','wine_country', 'wine_region', 'wine_year', 'wine_type', 'wine_price', 'wine_thumb', 'wine_url', 'wine_seller']\n",
    "\n",
    "years_temp = extractYear(dv['Name'])\n",
    "dv = replaceMissingYears(dv, 'Jahrgang', years_temp)\n",
    "dv['Art'] = dv['Art'].map(lambda x: updateWineType(x))\n",
    "dv['Preis'] = dv['Preis'].map(lambda x: formatPrice(x))\n",
    "dv['Name'] = dv['Name'].map(lambda x: removeYear(x))\n",
    "\n",
    "dv_new = dv[['Name', 'Herkunftsland', 'Region', 'Jahrgang', 'Art', 'Preis', 'Image', 'Details-URL', 'Seller']]\n",
    "dv_new.columns = cols\n",
    "\n",
    "#house brand again\n",
    "dv_new = dv_new[~dv_new['wine_name'].str.contains('divino.de')]\n",
    "\n",
    "dv_new.to_csv('/home/p/wines/winerecommender/data-matching/divino_formatted.csv')\n",
    "\n"
   ]
  },
  {
   "cell_type": "code",
   "execution_count": 130,
   "metadata": {},
   "outputs": [
    {
     "name": "stdout",
     "output_type": "stream",
     "text": [
      "13.5\n"
     ]
    }
   ],
   "source": [
    "# jacques_new=jacques[['wine_name', 'wine_winery', 'wine_country', 'wine_region','wine_year', 'wine_type', 'wine_price', 'wine_alcohol','wine_seller']]\n",
    "# matching_df= matching_df.append(jacques_new)\n",
    "\n",
    "print(formatAlcohol(' 13,5 '))"
   ]
  },
  {
   "cell_type": "code",
   "execution_count": null,
   "metadata": {},
   "outputs": [],
   "source": [
    "#exploration for wine region matching between vivino and local data\n",
    "\n",
    "def getRegionSet(array):\n",
    "    seen = set()\n",
    "    regions = []\n",
    "    for region in array:\n",
    "        region = str(region).strip().split(', ')[0]\n",
    "        if region not in seen:\n",
    "            seen.add(region)\n",
    "            regions.append(region)\n",
    "    return sorted(regions)\n",
    "\n",
    "regions = getRegionSet(final['wine_region'])\n",
    "\n",
    "vivreg = getRegionSet([wine['wine_region'] for wine in vivino_data])\n",
    "\n",
    "print('Matching: ',[region for region in regions if region in vivreg])\n",
    "print('Missing: ',[region for region in regions if region not in vivreg])"
   ]
  },
  {
   "cell_type": "code",
   "execution_count": null,
   "metadata": {},
   "outputs": [],
   "source": []
  }
 ],
 "metadata": {
  "interpreter": {
   "hash": "1fac22538c550b66a54000c2a952ff08543f66e1a3ae1f3c7728a21b2430cdf6"
  },
  "kernelspec": {
   "display_name": "Python 3 (ipykernel)",
   "language": "python",
   "name": "python3"
  },
  "language_info": {
   "codemirror_mode": {
    "name": "ipython",
    "version": 3
   },
   "file_extension": ".py",
   "mimetype": "text/x-python",
   "name": "python",
   "nbconvert_exporter": "python",
   "pygments_lexer": "ipython3",
   "version": "3.9.2"
  }
 },
 "nbformat": 4,
 "nbformat_minor": 4
}
