{
 "cells": [
  {
   "cell_type": "code",
   "execution_count": 1,
   "metadata": {},
   "outputs": [],
   "source": [
    "import numpy as np\n",
    "import json\n",
    "import pandas as pd\n",
    "import recordlinkage\n",
    "import re"
   ]
  },
  {
   "cell_type": "code",
   "execution_count": null,
   "metadata": {},
   "outputs": [],
   "source": [
    "#run this after rerunning extraction script in seperate folders if necessary\n",
    "\n",
    "# import json\n",
    "\n",
    "# with open('/home/p/wines/export (1)/wine_data.json', mode=\"r\", encoding=\"utf-8\") as json_file:\n",
    "#     v1 = json.load(json_file)\n",
    "# with open('/home/p/wines/export (2)/wine_data.json', mode=\"r\", encoding=\"utf-8\") as json_file:\n",
    "#     v2 = json.load(json_file)\n",
    "\n",
    "# v1.extend(v2)\n",
    "# print(len(v1))\n",
    "# out =  open('/home/p/wines/winerecommender/data-matching/vivino_data_combined.json', 'w', encoding='utf-8')\n",
    "# out.write(json.dumps(v1))\n",
    "# out.close()\n",
    "\n",
    "\n"
   ]
  },
  {
   "cell_type": "code",
   "execution_count": 19,
   "metadata": {},
   "outputs": [
    {
     "ename": "NameError",
     "evalue": "name 'pd' is not defined",
     "output_type": "error",
     "traceback": [
      "\u001b[0;31m---------------------------------------------------------------------------\u001b[0m",
      "\u001b[0;31mNameError\u001b[0m                                 Traceback (most recent call last)",
      "\u001b[0;32m/tmp/ipykernel_6941/3343064789.py\u001b[0m in \u001b[0;36m<module>\u001b[0;34m\u001b[0m\n\u001b[1;32m      2\u001b[0m     \u001b[0mvivino_data\u001b[0m \u001b[0;34m=\u001b[0m \u001b[0mjson\u001b[0m\u001b[0;34m.\u001b[0m\u001b[0mload\u001b[0m\u001b[0;34m(\u001b[0m\u001b[0mf\u001b[0m\u001b[0;34m)\u001b[0m\u001b[0;34m\u001b[0m\u001b[0;34m\u001b[0m\u001b[0m\n\u001b[1;32m      3\u001b[0m \u001b[0;34m\u001b[0m\u001b[0m\n\u001b[0;32m----> 4\u001b[0;31m \u001b[0mdi\u001b[0m \u001b[0;34m=\u001b[0m \u001b[0mpd\u001b[0m\u001b[0;34m.\u001b[0m\u001b[0mread_excel\u001b[0m\u001b[0;34m(\u001b[0m\u001b[0;34m'/home/p/wines/winerecommender/Scraping/Data Sources - scraped/Wines-FinalDS.xlsx'\u001b[0m\u001b[0;34m)\u001b[0m\u001b[0;34m\u001b[0m\u001b[0;34m\u001b[0m\u001b[0m\n\u001b[0m\u001b[1;32m      5\u001b[0m \u001b[0;34m\u001b[0m\u001b[0m\n\u001b[1;32m      6\u001b[0m \u001b[0;31m# jacques = pd.read_csv('/home/p/wines/winerecommender/Scraping/jacques.de/jacques_wines.csv', encoding='utf-8')\u001b[0m\u001b[0;34m\u001b[0m\u001b[0;34m\u001b[0m\u001b[0;34m\u001b[0m\u001b[0m\n",
      "\u001b[0;31mNameError\u001b[0m: name 'pd' is not defined"
     ]
    }
   ],
   "source": [
    "with open('/home/p/wines/winerecommender/data-matching/vivino_data_combined.json') as f:\n",
    "    vivino_data = json.load(f)\n",
    "\n",
    "di = pd.read_excel('/home/p/wines/winerecommender/Scraping/Data Sources - scraped/Wines-FinalDS.xlsx')\n",
    "\n",
    "# jacques = pd.read_csv('/home/p/wines/winerecommender/Scraping/jacques.de/jacques_wines.csv', encoding='utf-8')\n",
    "\n",
    "final = pd.read_csv('/home/p/wines/winerecommender/data-matching/matching_table.csv')\n"
   ]
  },
  {
   "cell_type": "code",
   "execution_count": 145,
   "metadata": {},
   "outputs": [],
   "source": [
    "\n",
    "## DO NOT USE, extracted regions and formatted alcohol from jacques scraper\n",
    "\n",
    "def getInfoJacques(series):\n",
    "\n",
    "    regions = []\n",
    "    for item in series:\n",
    "        temp = re.sub(' +', ' ',item.replace(\"\\xa0\", \"\").strip()).split('\\n\\n')\n",
    "        try:\n",
    "            region.append(temp[0].split(', ')[1].strip())\n",
    "        except:\n",
    "            region.append('')\n",
    "    return region\n",
    "\n",
    "# jacques[\"Region\"]=getInfoJacques(jacques.Name)\n",
    "\n",
    "# print(jacques[\"Region\"])\n",
    "\n",
    "\n",
    "# jac2 = pd.read_csv('/home/p/wines/winerecommender/Scraping/jacques.de/jacques_wines.csv')\n",
    "\n",
    "# jac2['wine_region'] = jacques['Region']\n",
    "# jac2['wine_alcohol'] = jac2['wine_alcohol'].map(lambda x: x.replace('%',''))\n",
    "\n",
    "#jacques.to_csv('/home/p/wines/winerecommender/Scraping/jacques.de/jacques_wines.csv')\n",
    "\n",
    "\n",
    "    "
   ]
  },
  {
   "cell_type": "code",
   "execution_count": 28,
   "metadata": {},
   "outputs": [],
   "source": [
    "#used to match dataframes by relevant columns\n",
    "\n",
    "def updateWineType(t):\n",
    "    switch = {\n",
    "        'Rotwein': 'red',\n",
    "        'Weißwein': 'white',\n",
    "        'Weisswein': 'white',\n",
    "        'Roséwein': 'rosé',\n",
    "        'red': 'red',\n",
    "        'white': 'white',\n",
    "        'rosé': 'rosé'\n",
    "    }\n",
    "\n",
    "    try: \n",
    "        return switch.get(t.replace(',','').strip().split(' ')[0], 'sparkling')\n",
    "    except:\n",
    "        return \n",
    "\n",
    "def formatPrice(x):\n",
    "    return\n",
    "\n",
    "def formatName(x)\n",
    "\n",
    "# print(df.columns, jacques.columns)\n",
    "\n",
    "cols=['wine_id','wine_name', 'wine_country', 'wine_region', 'wine_year', 'wine_type', 'wine_price', 'wine_alcohol', 'wine_thumb', 'wine_url', 'wine_seller']\n",
    "\n",
    "# matching_df = pd.DataFrame(columns=cols)\n",
    "# df['Region:'] = df['Region:'].map(lambda x: str(x).strip().split(', ')[0])\n",
    "# df['Wein:'] = df['Wein:'].map(lambda x: updateWineType(x))\n",
    "# df['Preis:'] = df['Preis:].map(lambda x: formatPrice(x))\n",
    "# df['Name:'] = df['Name:'].map(lambda x: formatName(x))\n",
    "# df_new = df[['Name:', 'Erzeugnis aus:', 'Region:', 'Jahrgang:', 'Wein:', 'Preis:', 'Alkohol in %:', ' 'Verkäufer:']]\n",
    "# df_new.columns = cols\n",
    "# print(df_new)\n",
    "# jacques_new=jacques[['wine_name', 'wine_country', 'wine_region','wine_year', 'wine_type', 'wine_price', 'wine_alcohol','wine_seller']]\n",
    "# matching_df = matching_df.append(df_new)\n",
    "# matching_df= matching_df.append(jacques_new)\n",
    "\n",
    "# matching_df.to_csv('/home/p/wines/winerecommender/data-matching/matching_table.csv')\n",
    "\n",
    "\n"
   ]
  },
  {
   "cell_type": "code",
   "execution_count": 46,
   "metadata": {},
   "outputs": [
    {
     "name": "stdout",
     "output_type": "stream",
     "text": [
      "Matching:  ['Aconcagua', 'Alexander Valley', 'Baden', 'Bordeaux', 'Bordeaux Supérieur', 'Bourgogne', 'Burgenland', 'Castilla', 'Châteauneuf-du-Pape', 'Douro', 'Dry Creek Valley', 'Elsass', 'Emilia-Romagna', 'Franken', 'Gascogne', 'Jura', 'Kalifornien', 'Kamptal', 'Languedoc', 'Languedoc-Roussillon', 'Mendoza', 'Mittelrhein', 'Mosel', 'Nahe', 'Napa Valley', 'Navarra', 'Niederösterreich', 'Pfalz', 'Piemont', 'Provence', 'Rheingau', 'Rheinhessen', 'Ribera del Duero', 'Rioja', 'Rueda', 'Sizilien', 'South Australia', 'Steiermark', 'Stellenbosch', 'Toro', 'Toscana', 'Umbrien', 'Valencia', 'Veneto', 'Wachau', 'Wagram', 'Western Cape', 'Württemberg', 'Yecla']\n",
      "Missing:  ['Abruzzen', 'Apulien', 'Basilikata', 'Burgund', 'Bündner Herrschaft', 'Champagne', 'Coastal Region', 'Coquimbo', 'Côtes du Rhône', 'Friaul', 'Friaul - Julisch Venetien', 'Galicien', 'Graubünden', 'Kastilien-La Mancha', 'Kastilien-León', 'Kastilien-Léon', 'Katalonien', 'La Rioja', 'Loire', 'Loiretal', 'Lombardei', 'Manduria', 'Maremma', 'Marken', 'Nordhessen', 'Rhône', 'Rhônetal', 'Roussillon', 'Saar', 'Santa Cruz Montains', 'South Eastern Australia', 'Südtirol/Alto Adige', 'Südwesten', 'Tarragona', 'Toskana', 'Transsilvanien', 'Trentino-Südtirol', 'Valle Central', 'Valles de Benavente', 'Venetien', 'Washington State', 'Weinviertel DAC', 'nan']\n"
     ]
    }
   ],
   "source": [
    "#exploration for wine region matching between vivino and local data\n",
    "\n",
    "def getRegionSet(array):\n",
    "    seen = set()\n",
    "    regions = []\n",
    "    for region in array:\n",
    "        region = str(region).strip().split(', ')[0]\n",
    "        if region not in seen:\n",
    "            seen.add(region)\n",
    "            regions.append(region)\n",
    "    return sorted(regions)\n",
    "\n",
    "regions = getRegionSet(final['wine_region'])\n",
    "\n",
    "vivreg = getRegionSet([wine['wine_region'] for wine in vivino_data])\n",
    "\n",
    "print('Matching: ',[region for region in regions if region in vivreg])\n",
    "print('Missing: ',[region for region in regions if region not in vivreg])\n"
   ]
  },
  {
   "cell_type": "code",
   "execution_count": 35,
   "metadata": {},
   "outputs": [
    {
     "name": "stdout",
     "output_type": "stream",
     "text": [
      "dict_keys(['wine_id', 'wine_name', 'wine_alcohol', 'wine_type', 'wine_year', 'wine_country', 'wine_region', 'wine_price', 'wine_structure', 'wine_tastes'])\n",
      "                                                 wine_name wine_country  \\\n",
      "wine_id                                                                   \n",
      "0                          Cielo e Terra Pinot Grigio 2020      Italien   \n",
      "1                             Antares Sauvignon Blanc 2020        Chile   \n",
      "2                                 Casal Garcia Vinho Verde     Portugal   \n",
      "3        Lauffener Schwarz Weiss Schwarzriesling Weissg...  Deutschland   \n",
      "4                                     Lenotti Custoza 2020      Italien   \n",
      "...                                                    ...          ...   \n",
      "9745     Château d’Aussières Blason d'Aussières Corbièr...   Frankreich   \n",
      "9746     Bolla Le Poiane Valpolicella Ripasso Classico ...      Italien   \n",
      "9747                             Alois Lageder Merlot 2017      Italien   \n",
      "9748     Kellerei . Cantina KALTERN Quintessenz Kaltere...      Italien   \n",
      "9749                                     Brancaia Tre 2018      Italien   \n",
      "\n",
      "                           wine_region wine_year wine_type  wine_price  \\\n",
      "wine_id                                                                  \n",
      "0                        delle Venezie      2020     white        3.95   \n",
      "1                       Central Valley      2020     white        4.44   \n",
      "2                          Vinho Verde      N.V.     white        4.55   \n",
      "3                          Württemberg      2020     white        4.70   \n",
      "4                    Bianco di Custoza      2020     white        4.70   \n",
      "...                                ...       ...       ...         ...   \n",
      "9745                         Corbières      2018       red       12.90   \n",
      "9746     Valpolicella Ripasso Classico      2018       red       12.90   \n",
      "9747             Südtirol - Alto Adige      2017       red       12.90   \n",
      "9748             Südtirol - Alto Adige      2019       red       12.90   \n",
      "9749                           Toscana      2018       red       12.90   \n",
      "\n",
      "         wine_alcohol  \n",
      "wine_id                \n",
      "0                12.0  \n",
      "1                12.0  \n",
      "2                 9.5  \n",
      "3                 0.0  \n",
      "4                12.0  \n",
      "...               ...  \n",
      "9745             14.0  \n",
      "9746              0.0  \n",
      "9747             13.0  \n",
      "9748             13.5  \n",
      "9749             13.5  \n",
      "\n",
      "[9749 rows x 7 columns]\n"
     ]
    }
   ],
   "source": [
    "#\n",
    "\n",
    "print(vivino_data[0].keys())\n",
    "vivsub = [{k: dic[k] for k in cols} for dic in vivino_data]\n",
    "vivino = pd.DataFrame.from_dict(vivsub)\n",
    "vivino = vivino.set_index('wine_id')\n",
    "print(vivino)\n",
    "\n",
    "vivino.to_csv('/home/p/wines/winerecommender/data-matching/matching_vivino.csv')\n",
    "\n",
    "\n",
    "#remove testing boxes of wine offered by direktimport, refit to identical columns\n",
    "cols = ['wine_name', 'wine_country', 'wine_region', 'wine_year', 'wine_type', 'wine_price', 'wine_thumb', 'wine_url', 'wine_alcohol', 'wine_seller']\n",
    "\n",
    "final = final[~final['wine_name'].str.contains('paket')]\n",
    "final = final[~final['wine_name'].str.contains('Paket')]\n",
    "final = final[cols]\n",
    "final.index.rename('wine_id')\n",
    "\n",
    "final_sub.to_csv('/home/p/wines/winerecommender/data-matching/matching_local.csv')"
   ]
  },
  {
   "cell_type": "code",
   "execution_count": 17,
   "metadata": {},
   "outputs": [
    {
     "name": "stdout",
     "output_type": "stream",
     "text": [
      "12571\n"
     ]
    }
   ],
   "source": []
  },
  {
   "cell_type": "code",
   "execution_count": 8,
   "metadata": {},
   "outputs": [
    {
     "ename": "FileNotFoundError",
     "evalue": "[Errno 2] No such file or directory: '/home/p/wines/winerecommender/data-matching/vivino_data_combined.json'",
     "output_type": "error",
     "traceback": [
      "\u001b[0;31m---------------------------------------------------------------------------\u001b[0m",
      "\u001b[0;31mFileNotFoundError\u001b[0m                         Traceback (most recent call last)",
      "\u001b[0;32m/tmp/ipykernel_6941/1815045865.py\u001b[0m in \u001b[0;36m<module>\u001b[0;34m\u001b[0m\n\u001b[1;32m      1\u001b[0m \u001b[0mv1\u001b[0m \u001b[0;34m=\u001b[0m \u001b[0mv1\u001b[0m\u001b[0;34m.\u001b[0m\u001b[0mextend\u001b[0m\u001b[0;34m(\u001b[0m\u001b[0mv2\u001b[0m\u001b[0;34m)\u001b[0m\u001b[0;34m\u001b[0m\u001b[0;34m\u001b[0m\u001b[0m\n\u001b[0;32m----> 2\u001b[0;31m \u001b[0;32mwith\u001b[0m \u001b[0mopen\u001b[0m\u001b[0;34m(\u001b[0m\u001b[0;34m'/home/p/wines/winerecommender/data-matching/vivino_data_combined.json'\u001b[0m\u001b[0;34m)\u001b[0m \u001b[0;32mas\u001b[0m \u001b[0mf\u001b[0m\u001b[0;34m:\u001b[0m\u001b[0;34m\u001b[0m\u001b[0;34m\u001b[0m\u001b[0m\n\u001b[0m\u001b[1;32m      3\u001b[0m     \u001b[0mv1\u001b[0m\u001b[0;34m\u001b[0m\u001b[0;34m\u001b[0m\u001b[0m\n",
      "\u001b[0;31mFileNotFoundError\u001b[0m: [Errno 2] No such file or directory: '/home/p/wines/winerecommender/data-matching/vivino_data_combined.json'"
     ]
    }
   ],
   "source": []
  }
 ],
 "metadata": {
  "interpreter": {
   "hash": "1fac22538c550b66a54000c2a952ff08543f66e1a3ae1f3c7728a21b2430cdf6"
  },
  "kernelspec": {
   "display_name": "Python 3 (ipykernel)",
   "language": "python",
   "name": "python3"
  },
  "language_info": {
   "codemirror_mode": {
    "name": "ipython",
    "version": 3
   },
   "file_extension": ".py",
   "mimetype": "text/x-python",
   "name": "python",
   "nbconvert_exporter": "python",
   "pygments_lexer": "ipython3",
   "version": "3.8.12"
  }
 },
 "nbformat": 4,
 "nbformat_minor": 4
}
